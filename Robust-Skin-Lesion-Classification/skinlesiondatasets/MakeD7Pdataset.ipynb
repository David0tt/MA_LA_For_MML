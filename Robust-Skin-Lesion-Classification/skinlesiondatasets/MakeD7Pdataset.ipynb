{
 "cells": [
  {
   "cell_type": "code",
   "execution_count": 1,
   "metadata": {},
   "outputs": [],
   "source": [
    "import os\n",
    "import pandas as pd\n",
    "import numpy as np\n",
    "import json\n",
    "from tqdm import tqdm\n",
    "import shutil"
   ]
  },
  {
   "cell_type": "code",
   "execution_count": 2,
   "metadata": {},
   "outputs": [],
   "source": [
    "D7Pdatafold = './SkinLesionDatasets/D7P/'\n",
    "D7Pdownload = './D7Pdownload/'"
   ]
  },
  {
   "cell_type": "code",
   "execution_count": 3,
   "metadata": {},
   "outputs": [],
   "source": [
    "D7Pdownload_Descriptions = D7Pdownload + '/release_v0/meta/meta.csv'\n",
    "descriptionfile = pd.read_csv(D7Pdownload_Descriptions)"
   ]
  },
  {
   "cell_type": "code",
   "execution_count": 4,
   "metadata": {},
   "outputs": [],
   "source": [
    "diagnosis = descriptionfile['diagnosis']\n",
    "file1name = descriptionfile['clinic']\n",
    "file2name = descriptionfile['derm']"
   ]
  },
  {
   "cell_type": "code",
   "execution_count": 7,
   "metadata": {},
   "outputs": [
    {
     "name": "stderr",
     "output_type": "stream",
     "text": [
      "100%|█████████████████████████████████████████████████████| 1011/1011 [00:09<00:00, 108.60it/s]\n"
     ]
    }
   ],
   "source": [
    "for count in tqdm(range(len(diagnosis))):\n",
    "#     print(count)\n",
    "    \n",
    "    diagnosisinfo = diagnosis[count]\n",
    "    \n",
    "    flag = 0\n",
    "    if diagnosisinfo[-5:] == 'nevus':\n",
    "        outputfolder = D7Pdatafold + 'nv'\n",
    "        flag = 1\n",
    "    if diagnosisinfo[:8] == 'melanoma':\n",
    "        outputfolder = D7Pdatafold + 'mel'\n",
    "        flag = 1\n",
    "    if diagnosisinfo == 'dermatofibroma':\n",
    "        outputfolder = D7Pdatafold + 'df'\n",
    "        flag = 1\n",
    "    if diagnosisinfo == 'basal cell carcinoma':\n",
    "        outputfolder = D7Pdatafold + 'bcc'\n",
    "        flag = 1\n",
    "    if diagnosisinfo == 'seborrheic keratosis':\n",
    "        outputfolder = D7Pdatafold + 'bkl'\n",
    "        flag = 1\n",
    "    if diagnosisinfo == 'vascular lesion':\n",
    "        outputfolder = D7Pdatafold + 'vasc'\n",
    "        flag = 1\n",
    "    \n",
    "    if flag == 1:\n",
    "        if os.path.isdir(outputfolder) == False:\n",
    "            os.makedirs(outputfolder)\n",
    "\n",
    "        src1 = D7Pdownload + 'release_v0/images/' + file1name[count]\n",
    "        dst1 = outputfolder + '/' + file1name[count][4:]\n",
    "        shutil.copyfile(src1, dst1)\n",
    "\n",
    "        src2 = D7Pdownload + 'release_v0/images/' + file2name[count]\n",
    "        dst2 = outputfolder + '/' + file2name[count][4:]\n",
    "        shutil.copyfile(src2, dst2)"
   ]
  },
  {
   "cell_type": "code",
   "execution_count": 8,
   "metadata": {},
   "outputs": [
    {
     "data": {
      "text/plain": [
       "'melanoma'"
      ]
     },
     "execution_count": 8,
     "metadata": {},
     "output_type": "execute_result"
    }
   ],
   "source": [
    "diagnosisinfo"
   ]
  },
  {
   "cell_type": "code",
   "execution_count": null,
   "metadata": {},
   "outputs": [],
   "source": []
  }
 ],
 "metadata": {
  "kernelspec": {
   "display_name": "skinclassifier",
   "language": "python",
   "name": "skinclassifier"
  },
  "language_info": {
   "codemirror_mode": {
    "name": "ipython",
    "version": 3
   },
   "file_extension": ".py",
   "mimetype": "text/x-python",
   "name": "python",
   "nbconvert_exporter": "python",
   "pygments_lexer": "ipython3",
   "version": "3.9.18"
  }
 },
 "nbformat": 4,
 "nbformat_minor": 4
}
