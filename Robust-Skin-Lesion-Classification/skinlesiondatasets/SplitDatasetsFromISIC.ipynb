{
 "cells": [
  {
   "cell_type": "code",
   "execution_count": 1,
   "metadata": {},
   "outputs": [],
   "source": [
    "import os\n",
    "import pandas as pd\n",
    "import numpy as np\n",
    "import json\n",
    "import pandas as pd\n",
    "from tqdm import tqdm\n",
    "from collections import Counter\n",
    "import shutil"
   ]
  },
  {
   "cell_type": "code",
   "execution_count": 2,
   "metadata": {},
   "outputs": [],
   "source": [
    "HAMdatafold = './SkinLesionDatasets/HAM/'\n",
    "MSKdatafold = './SkinLesionDatasets/MSK/'\n",
    "SONdatafold = './SkinLesionDatasets/SON/'\n",
    "UDAdatafold = './SkinLesionDatasets/UDA/'\n",
    "BCNdatafold = './SkinLesionDatasets/BCN/'\n",
    "VIEdatafold = './SkinLesionDatasets/VIE/'\n",
    "OTHdatafold = './SkinLesionDatasets/OTH/'\n",
    "ISICdownload = './ISICdownload/Data/'"
   ]
  },
  {
   "cell_type": "code",
   "execution_count": 3,
   "metadata": {},
   "outputs": [],
   "source": [
    "ISICdownload_Descriptions = ISICdownload + '/Images/metadata.csv'\n",
    "ISICdownload_meta = ISICdownload + 'meta_v1.csv'\n",
    "ISICdownload_Images = ISICdownload + 'Images/'"
   ]
  },
  {
   "cell_type": "code",
   "execution_count": 4,
   "metadata": {},
   "outputs": [
    {
     "name": "stderr",
     "output_type": "stream",
     "text": [
      "/well/win-fmrib-analysis/users/gqu790/conda/skylake/envs/skinclassifier/lib/python3.9/site-packages/IPython/core/interactiveshell.py:3553: DtypeWarning: Columns (8,13,14,15,17,18,20,21) have mixed types.Specify dtype option on import or set low_memory=False.\n",
      "  exec(code_obj, self.user_global_ns, self.user_ns)\n"
     ]
    }
   ],
   "source": [
    "existingdescriptionfiles = pd.read_csv(ISICdownload_Descriptions)\n",
    "existingmetav1 = pd.read_csv(ISICdownload_meta)\n",
    "existingimagefiles = os.listdir(ISICdownload_Images)"
   ]
  },
  {
   "cell_type": "code",
   "execution_count": 5,
   "metadata": {},
   "outputs": [
    {
     "data": {
      "text/plain": [
       "76298"
      ]
     },
     "execution_count": 5,
     "metadata": {},
     "output_type": "execute_result"
    }
   ],
   "source": [
    "len(existingimagefiles)"
   ]
  },
  {
   "cell_type": "code",
   "execution_count": 6,
   "metadata": {},
   "outputs": [
    {
     "data": {
      "text/plain": [
       "76295"
      ]
     },
     "execution_count": 6,
     "metadata": {},
     "output_type": "execute_result"
    }
   ],
   "source": [
    "len(existingdescriptionfiles)"
   ]
  },
  {
   "cell_type": "code",
   "execution_count": 7,
   "metadata": {},
   "outputs": [
    {
     "data": {
      "text/plain": [
       "69445"
      ]
     },
     "execution_count": 7,
     "metadata": {},
     "output_type": "execute_result"
    }
   ],
   "source": [
    "len(existingmetav1)"
   ]
  },
  {
   "cell_type": "code",
   "execution_count": 8,
   "metadata": {},
   "outputs": [],
   "source": [
    "datasdigno = Counter(existingdescriptionfiles['diagnosis'])"
   ]
  },
  {
   "cell_type": "code",
   "execution_count": 9,
   "metadata": {},
   "outputs": [
    {
     "data": {
      "text/plain": [
       "Counter({'melanoma': 6701,\n",
       "         'nevus': 31626,\n",
       "         'seborrheic keratosis': 1725,\n",
       "         'actinic keratosis': 1011,\n",
       "         'basal cell carcinoma': 3869,\n",
       "         'solar lentigo': 446,\n",
       "         'squamous cell carcinoma': 879,\n",
       "         'dermatofibroma': 370,\n",
       "         'vascular lesion': 348,\n",
       "         'lichenoid keratosis': 93,\n",
       "         'lentigo NOS': 222,\n",
       "         'atypical melanocytic proliferation': 99,\n",
       "         'verruca': 6,\n",
       "         'clear cell acanthoma': 1,\n",
       "         'angiofibroma or fibrous papule': 2,\n",
       "         'scar': 6,\n",
       "         'angioma': 16,\n",
       "         'atypical spitz tumor': 1,\n",
       "         nan: 27438,\n",
       "         'AIMP': 22,\n",
       "         'neurofibroma': 7,\n",
       "         'lentigo simplex': 31,\n",
       "         'acrochordon': 5,\n",
       "         'angiokeratoma': 1,\n",
       "         'other': 25,\n",
       "         'cafe-au-lait macule': 2,\n",
       "         'pigmented benign keratosis': 1339,\n",
       "         'melanoma metastasis': 4})"
      ]
     },
     "execution_count": 9,
     "metadata": {},
     "output_type": "execute_result"
    }
   ],
   "source": [
    "datasdigno"
   ]
  },
  {
   "cell_type": "code",
   "execution_count": 10,
   "metadata": {},
   "outputs": [],
   "source": [
    "dign_list_HAM = ['melanoma', 'nevus', 'actinic keratosis', 'squamous cell carcinoma', 'basal cell carcinoma', \n",
    "                 'dermatofibroma', 'vascular lesion',\n",
    "                'seborrheic keratosis', 'solar lentigo', 'lichenoid keratosis', 'pigmented benign keratosis']"
   ]
  },
  {
   "cell_type": "code",
   "execution_count": 11,
   "metadata": {},
   "outputs": [
    {
     "data": {
      "text/plain": [
       "' following the HAM dataset descriptions (https://dataverse.harvard.edu/dataset.xhtml?persistentId=doi:10.7910/DVN/DBW86T)\\nakiec: actinic keratoses / squamous cell carcinoma\\nbcc: basal cell carcinoma\\nbkl: pigmented benign keratosis / seborrheic keratosis / solar lentigo / lichenoid keratosis\\ndf: dermatofibroma\\nmel: melanoma\\nnv: nevus\\nvasc: vascular lesions\\n'"
      ]
     },
     "execution_count": 11,
     "metadata": {},
     "output_type": "execute_result"
    }
   ],
   "source": [
    "''' following the HAM dataset descriptions (https://dataverse.harvard.edu/dataset.xhtml?persistentId=doi:10.7910/DVN/DBW86T)\n",
    "akiec: actinic keratoses / squamous cell carcinoma\n",
    "bcc: basal cell carcinoma\n",
    "bkl: pigmented benign keratosis / seborrheic keratosis / solar lentigo / lichenoid keratosis\n",
    "df: dermatofibroma\n",
    "mel: melanoma\n",
    "nv: nevus\n",
    "vasc: vascular lesions\n",
    "'''"
   ]
  },
  {
   "cell_type": "code",
   "execution_count": 12,
   "metadata": {},
   "outputs": [],
   "source": [
    "source_list = ['HAM', 'BCN_200', 'ISIC_', 'MSK', 'SON', 'UDA']"
   ]
  },
  {
   "cell_type": "code",
   "execution_count": 13,
   "metadata": {},
   "outputs": [
    {
     "data": {
      "text/plain": [
       "0"
      ]
     },
     "execution_count": 13,
     "metadata": {},
     "output_type": "execute_result"
    }
   ],
   "source": [
    "len(existingmetav1.index[existingmetav1['ID'] == 'ISIC_6967412'])"
   ]
  },
  {
   "cell_type": "code",
   "execution_count": 14,
   "metadata": {},
   "outputs": [
    {
     "data": {
      "text/plain": [
       "1"
      ]
     },
     "execution_count": 14,
     "metadata": {},
     "output_type": "execute_result"
    }
   ],
   "source": [
    "len(existingmetav1.index[existingmetav1['ID'] == 'ISIC_0000004'])"
   ]
  },
  {
   "cell_type": "code",
   "execution_count": 15,
   "metadata": {},
   "outputs": [
    {
     "data": {
      "text/plain": [
       "'UDA-1'"
      ]
     },
     "execution_count": 15,
     "metadata": {},
     "output_type": "execute_result"
    }
   ],
   "source": [
    "existingmetav1['Dataset'][existingmetav1.index[existingmetav1['ID'] == 'ISIC_0000004'].tolist()[0]]"
   ]
  },
  {
   "cell_type": "code",
   "execution_count": 16,
   "metadata": {},
   "outputs": [
    {
     "data": {
      "text/plain": [
       "False"
      ]
     },
     "execution_count": 16,
     "metadata": {},
     "output_type": "execute_result"
    }
   ],
   "source": [
    "existingdescriptionfiles['diagnosis'][0] not in dign_list_HAM"
   ]
  },
  {
   "cell_type": "code",
   "execution_count": 17,
   "metadata": {},
   "outputs": [],
   "source": [
    "datas = Counter(existingmetav1['Dataset'])"
   ]
  },
  {
   "cell_type": "code",
   "execution_count": 18,
   "metadata": {},
   "outputs": [
    {
     "data": {
      "text/plain": [
       "Counter({'UDA-1': 557,\n",
       "         'SONIC': 9251,\n",
       "         'MSK-2': 1535,\n",
       "         'MSK-1': 1100,\n",
       "         'HAM10000': 10015,\n",
       "         'BCN_20000': 12413,\n",
       "         'BCN_2020_Challenge': 7311,\n",
       "         'Brisbane ISIC Challenge 2020': 8449,\n",
       "         'ISIC 2020 Challenge - MSKCC contribution': 11108,\n",
       "         'ISIC_2020_Vienna_part2': 2143,\n",
       "         'Sydney (MIA / SMDC) 2020 ISIC challenge contribution': 1884,\n",
       "         'ISIC_2020_Vienna_part_1': 2231,\n",
       "         'MSK-4': 947,\n",
       "         'MSK-3': 225,\n",
       "         'MSK-5': 111,\n",
       "         '2018 JID Editorial Images': 100,\n",
       "         'UDA-2': 60,\n",
       "         'Dermoscopedia (CC-BY)': 5})"
      ]
     },
     "execution_count": 18,
     "metadata": {},
     "output_type": "execute_result"
    }
   ],
   "source": [
    "datas"
   ]
  },
  {
   "cell_type": "code",
   "execution_count": 19,
   "metadata": {},
   "outputs": [
    {
     "data": {
      "text/plain": [
       "'squamous cell carcinoma'"
      ]
     },
     "execution_count": 19,
     "metadata": {},
     "output_type": "execute_result"
    }
   ],
   "source": [
    "existingdescriptionfiles['diagnosis'][existingdescriptionfiles.index[existingdescriptionfiles['isic_id'] == 'ISIC_0024329'].tolist()[0]]"
   ]
  },
  {
   "cell_type": "code",
   "execution_count": 20,
   "metadata": {},
   "outputs": [
    {
     "name": "stderr",
     "output_type": "stream",
     "text": [
      "100%|████████████████████████████████████████████████████████████████████████████████████████████████████████████████████████████████████████████████████| 76295/76295 [18:52<00:00, 67.37it/s]\n"
     ]
    }
   ],
   "source": [
    "for count in tqdm(range(len(existingdescriptionfiles))):\n",
    "#     print(count)\n",
    "    \n",
    "    ID = existingdescriptionfiles['isic_id'][count]\n",
    "    if existingdescriptionfiles['diagnosis'][count] not in dign_list_HAM:\n",
    "        continue\n",
    "    \n",
    "    # get the dignosis information\n",
    "    if existingdescriptionfiles['diagnosis'][count] == 'actinic keratosis':\n",
    "        diagnosisinfo = 'akiec'\n",
    "    if existingdescriptionfiles['diagnosis'][count] == 'squamous cell carcinoma':\n",
    "        diagnosisinfo = 'akiec'\n",
    "    if existingdescriptionfiles['diagnosis'][count] == 'basal cell carcinoma':\n",
    "        diagnosisinfo = 'bcc'\n",
    "    if existingdescriptionfiles['diagnosis'][count] == 'pigmented benign keratosis':\n",
    "        diagnosisinfo = 'bkl'\n",
    "    if existingdescriptionfiles['diagnosis'][count] == 'seborrheic keratosis':\n",
    "        diagnosisinfo = 'bkl'\n",
    "    if existingdescriptionfiles['diagnosis'][count] == 'solar lentigo':\n",
    "        diagnosisinfo = 'bkl'\n",
    "    if existingdescriptionfiles['diagnosis'][count] == 'lichenoid keratosis':\n",
    "        diagnosisinfo = 'bkl'\n",
    "    if existingdescriptionfiles['diagnosis'][count] == 'dermatofibroma':\n",
    "        diagnosisinfo = 'df'\n",
    "    if existingdescriptionfiles['diagnosis'][count] == 'melanoma':\n",
    "        diagnosisinfo = 'mel'\n",
    "    if existingdescriptionfiles['diagnosis'][count] == 'nevus':\n",
    "        diagnosisinfo = 'nv'\n",
    "    if existingdescriptionfiles['diagnosis'][count] == 'vascular lesion':\n",
    "        diagnosisinfo = 'vasc'\n",
    "        \n",
    "    if len(existingmetav1.index[existingmetav1['ID'] == ID]) > 0:\n",
    "    \n",
    "        datasetinfo = existingmetav1['Dataset'][existingmetav1.index[existingmetav1['ID'] == ID].tolist()[0]]\n",
    "\n",
    "        # get the dataset information\n",
    "        flag = 0\n",
    "        if datasetinfo[:3] == 'HAM':\n",
    "            outputfolder = HAMdatafold + diagnosisinfo\n",
    "            flag = 1\n",
    "        if datasetinfo[:7] == 'BCN_200':\n",
    "            outputfolder = BCNdatafold + diagnosisinfo\n",
    "            flag = 1\n",
    "        if datasetinfo[:5] == 'ISIC_':\n",
    "            outputfolder = VIEdatafold + diagnosisinfo\n",
    "            flag = 1\n",
    "        if datasetinfo[:3] == 'MSK':\n",
    "            outputfolder = MSKdatafold + diagnosisinfo\n",
    "            flag = 1\n",
    "        if datasetinfo[:3] == 'SON':\n",
    "            outputfolder = SONdatafold + diagnosisinfo\n",
    "            flag = 1\n",
    "        if datasetinfo[:3] == 'UDA':\n",
    "            outputfolder = UDAdatafold + diagnosisinfo\n",
    "            flag = 1\n",
    "        if flag == 0:\n",
    "            outputfolder = OTHdatafold + diagnosisinfo\n",
    "    else:\n",
    "        outputfolder = OTHdatafold + diagnosisinfo\n",
    "    \n",
    "    if os.path.isdir(outputfolder) == False:\n",
    "        os.makedirs(outputfolder)\n",
    "    \n",
    "    src = ISICdownload_Images + ID + '.JPG'\n",
    "    dst = outputfolder + '/' + ID + '.JPG'\n",
    "    shutil.copyfile(src, dst)\n",
    "    "
   ]
  },
  {
   "cell_type": "code",
   "execution_count": null,
   "metadata": {},
   "outputs": [],
   "source": []
  },
  {
   "cell_type": "code",
   "execution_count": null,
   "metadata": {},
   "outputs": [],
   "source": []
  },
  {
   "cell_type": "code",
   "execution_count": null,
   "metadata": {},
   "outputs": [],
   "source": []
  },
  {
   "cell_type": "code",
   "execution_count": null,
   "metadata": {},
   "outputs": [],
   "source": []
  }
 ],
 "metadata": {
  "kernelspec": {
   "display_name": "skinclassifier",
   "language": "python",
   "name": "skinclassifier"
  },
  "language_info": {
   "codemirror_mode": {
    "name": "ipython",
    "version": 3
   },
   "file_extension": ".py",
   "mimetype": "text/x-python",
   "name": "python",
   "nbconvert_exporter": "python",
   "pygments_lexer": "ipython3",
   "version": "3.9.18"
  }
 },
 "nbformat": 4,
 "nbformat_minor": 4
}
