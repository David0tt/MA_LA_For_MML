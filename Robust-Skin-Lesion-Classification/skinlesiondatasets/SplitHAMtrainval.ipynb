{
 "cells": [
  {
   "cell_type": "code",
   "execution_count": 13,
   "metadata": {},
   "outputs": [],
   "source": [
    "import os\n",
    "import pandas as pd\n",
    "import numpy as np\n",
    "import json\n",
    "from tqdm import tqdm\n",
    "import shutil\n",
    "import random"
   ]
  },
  {
   "cell_type": "code",
   "execution_count": 14,
   "metadata": {},
   "outputs": [],
   "source": [
    "HAMdatafold = './SkinLesionDatasets/HAM/'\n",
    "HAMtraindatafold = './SkinLesionDatasets/HAMtrain/'\n",
    "HAMvaldatafold = './SkinLesionDatasets/HAMval/'\n",
    "HAMtestdatafold = './SkinLesionDatasets/HAMtest/'\n",
    "if os.path.isdir(HAMtraindatafold) == False:\n",
    "    os.makedirs(HAMtraindatafold)\n",
    "if os.path.isdir(HAMvaldatafold) == False:\n",
    "    os.makedirs(HAMvaldatafold)\n",
    "if os.path.isdir(HAMtestdatafold) == False:\n",
    "    os.makedirs(HAMtestdatafold)"
   ]
  },
  {
   "cell_type": "code",
   "execution_count": 15,
   "metadata": {},
   "outputs": [
    {
     "name": "stdout",
     "output_type": "stream",
     "text": [
      "['bcc', 'mel', 'bkl', 'nv', 'vasc', 'df', 'akiec']\n"
     ]
    }
   ],
   "source": [
    "existingfolders = os.listdir(HAMdatafold)\n",
    "print(existingfolders)"
   ]
  },
  {
   "cell_type": "code",
   "execution_count": 16,
   "metadata": {},
   "outputs": [
    {
     "name": "stderr",
     "output_type": "stream",
     "text": [
      "100%|████████████████████████████████████████████████████████████| 7/7 [01:33<00:00, 13.32s/it]\n"
     ]
    }
   ],
   "source": [
    "trainportion = 0.7\n",
    "valportion = 0.8\n",
    "random.seed(79)\n",
    "for clscount in tqdm(range(len(existingfolders))):\n",
    "    clsfolder = HAMdatafold + existingfolders[clscount]\n",
    "    clstrainfolder = HAMtraindatafold + existingfolders[clscount]\n",
    "    clsvalfolder = HAMvaldatafold + existingfolders[clscount]\n",
    "    clstestfolder = HAMtestdatafold + existingfolders[clscount]\n",
    "    existingfiles = sorted(os.listdir(clsfolder))\n",
    "    numlist = list(range(len(existingfiles)))\n",
    "    random.shuffle(numlist)\n",
    "    trainlist = numlist[:int(np.round(trainportion * len(existingfiles)))]\n",
    "    vallist = numlist[int(np.round(trainportion * len(existingfiles))):int(np.round(valportion * len(existingfiles)))]\n",
    "    testlist = numlist[int(np.round(valportion * len(existingfiles))):]\n",
    "    \n",
    "    if os.path.isdir(clstrainfolder) == False:\n",
    "        os.makedirs(clstrainfolder)\n",
    "    if os.path.isdir(clsvalfolder) == False:\n",
    "        os.makedirs(clsvalfolder)\n",
    "    if os.path.isdir(clstestfolder) == False:\n",
    "        os.makedirs(clstestfolder)\n",
    "    \n",
    "    for ktrain in trainlist:\n",
    "        src = clsfolder + '/' + existingfiles[ktrain]\n",
    "        dst = clstrainfolder + '/' + existingfiles[ktrain]\n",
    "        shutil.copyfile(src, dst)\n",
    "\n",
    "    for kval in vallist:\n",
    "        src = clsfolder + '/' + existingfiles[kval]\n",
    "        dst = clsvalfolder + '/' + existingfiles[kval]\n",
    "        shutil.copyfile(src, dst)\n",
    "    \n",
    "    for ktest in testlist:\n",
    "        src = clsfolder + '/' + existingfiles[ktest]\n",
    "        dst = clstestfolder + '/' + existingfiles[ktest]\n",
    "        shutil.copyfile(src, dst)\n",
    "    "
   ]
  },
  {
   "cell_type": "code",
   "execution_count": null,
   "metadata": {},
   "outputs": [],
   "source": []
  }
 ],
 "metadata": {
  "kernelspec": {
   "display_name": "skinclassifier",
   "language": "python",
   "name": "skinclassifier"
  },
  "language_info": {
   "codemirror_mode": {
    "name": "ipython",
    "version": 3
   },
   "file_extension": ".py",
   "mimetype": "text/x-python",
   "name": "python",
   "nbconvert_exporter": "python",
   "pygments_lexer": "ipython3",
   "version": "3.9.18"
  }
 },
 "nbformat": 4,
 "nbformat_minor": 4
}
