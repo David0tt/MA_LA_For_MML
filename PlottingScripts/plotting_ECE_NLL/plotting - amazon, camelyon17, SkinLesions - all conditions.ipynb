{
 "cells": [
  {
   "cell_type": "code",
   "execution_count": null,
   "metadata": {},
   "outputs": [],
   "source": [
    "import numpy as np\n",
    "import matplotlib.pyplot as plt\n",
    "import os\n",
    "from copy import deepcopy"
   ]
  },
  {
   "cell_type": "markdown",
   "metadata": {},
   "source": []
  },
  {
   "cell_type": "code",
   "execution_count": null,
   "metadata": {},
   "outputs": [],
   "source": [
    "from tueplots import bundles\n",
    "\n",
    "\n",
    "\n",
    "# Inspired by bundles.neurips2023(), but adapting font sizes for pt12 standard\n",
    "\n",
    "settings_dict = {'text.usetex': True,\n",
    "                 'font.family': 'serif',\n",
    "                 'text.latex.preamble': '\\\\renewcommand{\\\\rmdefault}{ptm}\\\\renewcommand{\\\\sfdefault}{phv}',\n",
    "                 'figure.figsize': (5.5, 3.399186938124422),\n",
    "                 'figure.constrained_layout.use': True,\n",
    "                 'figure.autolayout': False,\n",
    "                 'savefig.bbox': 'tight',\n",
    "                 'savefig.pad_inches': 0.015,\n",
    "                 'font.size': 10,\n",
    "                 'axes.labelsize': 10,\n",
    "                 'legend.fontsize': 8,\n",
    "                 'xtick.labelsize': 8,\n",
    "                 'ytick.labelsize': 8,\n",
    "                 'axes.titlesize': 10,\n",
    "                 'figure.dpi': 300}\n",
    "\n",
    "\n",
    "plt.rcParams.update(settings_dict)\n",
    "\n",
    "\n",
    "# Can use colors from bundles.rgb.\n",
    "#     tue_blue\n",
    "#     tue_brown\n",
    "#     tue_dark\n",
    "#     tue_darkblue\n",
    "#     tue_darkgreen\n",
    "#     tue_gold\n",
    "#     tue_gray\n",
    "#     tue_green\n",
    "#     tue_lightblue\n",
    "#     tue_lightgold\n",
    "#     tue_lightgreen\n",
    "#     tue_lightorange\n",
    "#     tue_mauve\n",
    "#     tue_ocre\n",
    "#     tue_orange\n",
    "#     tue_red\n",
    "#     tue_violet"
   ]
  },
  {
   "cell_type": "code",
   "execution_count": null,
   "metadata": {},
   "outputs": [],
   "source": [
    "# # %matplotlib widget\n",
    "# import matplotlib\n",
    "# matplotlib.rcParams[\"figure.dpi\"] = 300"
   ]
  },
  {
   "cell_type": "code",
   "execution_count": null,
   "metadata": {},
   "outputs": [],
   "source": [
    "# The 'laplace-redux/results' folder has to be in the following specified folder:\n",
    "RESULTS_DIRECTORY = 'results - amazon, camelyon17, SkinLesions - all conditions'\n"
   ]
  },
  {
   "cell_type": "code",
   "execution_count": null,
   "metadata": {},
   "outputs": [],
   "source": [
    "# Due to file length restrictions, I renamed \n",
    "# camelyon17_wrn50_laplace_ef_weight_inc_temp_last_layer_full_scalingfittted_diagaddfitted_diagscalingfitted_1254883.npy -> camelyon17_wrn50_laplace_ef_weight_inc_temp_last_layer_full_sf_df_dsf_1254883.npy\n",
    "# camelyon17_RN50_laplace_weight_inc_temp_last_layer_full_scalingfittted_diagaddfitted_diagscalingfitted_1254883.npy -> camelyon17_RN50_laplace_weight_inc_temp_last_layer_full_df_df_dsf_1254883.npy\n",
    "# camelyon17_resnet50_laplace_weight_inc_temp_last_layer_full_scalingfittted_diagaddfitted_diagscalingfitted_1254883.npy -> camelyon17_resnet50_laplace_weight_inc_temp_last_layer_full_sf_df_dsf_1254883.npy\n",
    "\n",
    "\n"
   ]
  },
  {
   "cell_type": "code",
   "execution_count": null,
   "metadata": {},
   "outputs": [],
   "source": [
    "# ### TESTING: for some reason, there have been inftys produced in the nll calculation\n",
    "# # -> I am not sure why: It is not due to errors in Cov-scaling, as there are also conditions without Cov-scaling that have them\n",
    "# # Also, ECE calculation did work\n",
    "# # It is probably due to log(0) values somewhere, but not sure how...\n",
    "# # Probably due to very high overconfidence in the wrong class, resulting in -log(0) for the target class in NLL\n",
    "\n",
    "# dirs = os.listdir(os.path.join(RESULTS_DIRECTORY, 'SkinLesions'))\n",
    "\n",
    "# dirs = [d for d in dirs if 'skinlesions_wrn50' in d]\n",
    "\n",
    "# for d in dirs:\n",
    "#     dat = np.load(f'{RESULTS_DIRECTORY}/SkinLesions/{d}', allow_pickle=True)\n",
    "#     print('##### ', d)\n",
    "#     print(dat)"
   ]
  },
  {
   "cell_type": "code",
   "execution_count": null,
   "metadata": {},
   "outputs": [],
   "source": [
    "def load_results(RESULTS_DIRECTORY, dataset_name, sub_name, model_ids):\n",
    "\n",
    "    dat_list = []\n",
    "    for i in model_ids:\n",
    "        dat_list.append(np.load(f'{RESULTS_DIRECTORY}/{dataset_name}/{sub_name}_{i}.npy', allow_pickle=True))\n",
    "    \n",
    "    dat = []\n",
    "    for i in range(len(dat_list[0])):\n",
    "        dat_i = {}\n",
    "        for k, v in dat_list[0][i].items():\n",
    "            values_list = [model_seed_run[i][k] for model_seed_run in dat_list]\n",
    "            dat_i[k] = np.mean(values_list)\n",
    "            dat_i[k + \"_se\"] = np.std(values_list) / np.sqrt(len(values_list))\n",
    "        dat.append(dat_i)\n",
    "\n",
    "    return dat\n"
   ]
  },
  {
   "cell_type": "code",
   "execution_count": null,
   "metadata": {},
   "outputs": [],
   "source": [
    "# automatically load all conditions\n",
    "\n",
    "def get_all_conditions_model_id_names(RESULTS_DIRECTORY, DATASET_NAME):\n",
    "    results_files = os.listdir(os.path.join(RESULTS_DIRECTORY, DATASET_NAME))\n",
    "    conditions = list(set([\"_\".join(f.split(\"_\")[:-1]) for f in results_files]))\n",
    "    model_ids = []\n",
    "    for condition in conditions:\n",
    "        this_condition_files = [f for f in results_files if f[:len(condition)] == condition]\n",
    "        this_condition_ids = list(set([f.split(\"_\")[-1][:-4] for f in this_condition_files]))\n",
    "        this_condition_ids.sort()\n",
    "        model_ids.append(this_condition_ids)\n",
    "    return conditions, model_ids\n",
    "\n",
    "\n",
    "DATASET = \"WILDS-amazon\"\n",
    "conditions_amazon, model_ids_amazon = get_all_conditions_model_id_names(RESULTS_DIRECTORY, DATASET)\n",
    "# model_ids_amazon = [] # TODO remove, testing if results from laplace-redux are obtained when only using model 0\n",
    "results_amazon = []\n",
    "for condition, model_ids in zip(conditions_amazon, model_ids_amazon): \n",
    "    results_amazon.append(load_results(RESULTS_DIRECTORY, DATASET, condition, model_ids))\n",
    "\n",
    "\n",
    "DATASET = \"WILDS-camelyon17\"\n",
    "conditions_camelyon17, model_ids_camelyon17 = get_all_conditions_model_id_names(RESULTS_DIRECTORY, DATASET)\n",
    "# model_ids_camelyon17 = [5] # TODO remove, testing if results from laplace-redux are obtained when only using model 0\n",
    "results_camelyon17 = []\n",
    "for condition, model_ids in zip(conditions_camelyon17, model_ids_camelyon17): \n",
    "    results_camelyon17.append(load_results(RESULTS_DIRECTORY, DATASET, condition, model_ids))\n",
    "\n",
    "\n",
    "DATASET = \"SkinLesions\"\n",
    "conditions_SkinLesions, model_ids_SkinLesions = get_all_conditions_model_id_names(RESULTS_DIRECTORY, DATASET)\n",
    "results_SkinLesions = []\n",
    "for condition, model_ids in zip(conditions_SkinLesions, model_ids_SkinLesions): \n",
    "    results_SkinLesions.append(load_results(RESULTS_DIRECTORY, DATASET, condition, model_ids))\n",
    "\n",
    "\n",
    "# load all results for each condition into a list.\n",
    "# make a list of all the condition names"
   ]
  },
  {
   "cell_type": "code",
   "execution_count": null,
   "metadata": {},
   "outputs": [],
   "source": [
    "# results_camelyon17"
   ]
  },
  {
   "cell_type": "code",
   "execution_count": null,
   "metadata": {},
   "outputs": [],
   "source": [
    "condition_translation_dict = {\n",
    "    'laplace_ef_last_layer_full_scalingfittted_diagaddfitted_diagscalingfitted': \"LLLA(EF)+CVS\",\n",
    "    'laplace_last_layer_full': \"LLLA\", \n",
    "    'laplace_last_layer_full_diagaddfitted': \"LLLA+CVS - only diag add\",\n",
    "    'laplace_last_layer_full_scalingfittted_diagaddfitted_diagscalingfitted': \"LLLA+CVS\",\n",
    "    'temp': \"TS (pycalib)\",\n",
    "    'laplace_weight_inc_temp_last_layer_full': \"LLLA+WITS\",\n",
    "    'map_weight_inc_temp': \"TS (WITS)\",\n",
    "    'laplace_ef_weight_inc_temp_last_layer_full': \"LLLA(EF)+WITS\",\n",
    "    'laplace_ef_weight_inc_temp_last_layer_full_scalingfittted_diagaddfitted_diagscalingfitted': \"LLLA(EF)+WITS+CVS\",\n",
    "    'map': \"MAP\",\n",
    "    'laplace_last_layer_full_scalingfittted': \"LLLA+CVS - only scaling\",\n",
    "    'laplace_ef_last_layer_full': \"LLLA(EF)\",\n",
    "    'laplace_last_layer_full_diagscalingfitted': \"LLLA+CVS - only diag scaling\",\n",
    "    'laplace_weight_inc_temp_last_layer_full_scalingfittted_diagaddfitted_diagscalingfitted': \"LLLA+WITS+CVS\",\n",
    "    'laplace_OODValSet_weight_inc_temp_last_layer_full_scalingfittted_diagaddfitted_diagscalingfitted': \"fitted on OOD: LLLA+WITS+CVS\",\n",
    "    'laplace_OODValSet_weight_inc_temp_last_layer_full': \"fitted on OOD: LLLA+WITS\",\n",
    "    'laplace_OODValSet_last_layer_full_scalingfittted_diagaddfitted_diagscalingfitted': \"fitted on OOD: LLLA+CVS\",\n",
    "    'laplace_ef_OODValSet_weight_inc_temp_last_layer_full': \"fitted on OOD: LLLA(EF)+WITS\",\n",
    "    'laplace_ef_OODValSet_last_layer_full': \"fitted on OOD: LLLA(EF)\",\n",
    "    'laplace_ef_OODValSet_last_layer_full_scalingfittted_diagaddfitted_diagscalingfitted': \"fitted on OOD: LLLA(EF)+CVS\",\n",
    "    'laplace_ef_OODValSet_weight_inc_temp_last_layer_full_scalingfittted_diagaddfitted_diagscalingfitted': \"fitted on OOD: LLLA(EF)+WITS+CVS\",\n",
    "    'map_OODValSet_weight_inc_temp': \"fitted on OOD: TS (WITS)\",\n",
    "}\n"
   ]
  },
  {
   "cell_type": "code",
   "execution_count": null,
   "metadata": {},
   "outputs": [],
   "source": [
    "condition_translation_dict_network_ablation = {}\n",
    "for k, v in condition_translation_dict.items():\n",
    "    if 'camelyon17_wrn50_' + k in conditions_camelyon17:\n",
    "        condition_translation_dict_network_ablation['camelyon17_wrn50_' + k] = 'WRN50 ' + v\n",
    "    if 'camelyon17_resnet50_' + k in conditions_camelyon17:\n",
    "        condition_translation_dict_network_ablation['camelyon17_resnet50_' + k] = 'RN50 ' + v\n",
    "\n",
    "    if 'skinlesions_wrn50_' + k in conditions_SkinLesions:\n",
    "        condition_translation_dict_network_ablation['skinlesions_wrn50_' + k] = 'WRN50 ' + v\n"
   ]
  },
  {
   "cell_type": "code",
   "execution_count": null,
   "metadata": {},
   "outputs": [],
   "source": [
    "condition_translation_dict_network_ablation.update({\n",
    "    'camelyon17_wrn50_laplace_ef_weight_inc_temp_last_layer_full_sf_df_dsf': 'WRN50 LLLA(EF)+WITS+CVS',\n",
    "    'camelyon17_wrn50_laplace_weight_inc_temp_last_layer_full_df_df_dsf': 'WRN50 LLLA+WITS+CVS',\n",
    "    'camelyon17_resnet50_laplace_weight_inc_temp_last_layer_full_sf_df_dsf': 'RN50 LLLA+WITS+CVS',\n",
    "})"
   ]
  },
  {
   "cell_type": "code",
   "execution_count": null,
   "metadata": {},
   "outputs": [],
   "source": [
    "condition_translation_dict.update(condition_translation_dict_network_ablation)"
   ]
  },
  {
   "cell_type": "code",
   "execution_count": null,
   "metadata": {},
   "outputs": [],
   "source": [
    "assert np.all([c in condition_translation_dict.keys() for c in conditions_camelyon17])\n"
   ]
  },
  {
   "cell_type": "code",
   "execution_count": null,
   "metadata": {},
   "outputs": [],
   "source": [
    "assert np.all([c in condition_translation_dict.keys() for c in conditions_amazon])\n"
   ]
  },
  {
   "cell_type": "code",
   "execution_count": null,
   "metadata": {},
   "outputs": [],
   "source": [
    "assert np.all([c in condition_translation_dict.keys() for c in conditions_SkinLesions])\n"
   ]
  },
  {
   "cell_type": "markdown",
   "metadata": {},
   "source": [
    "# Nice combined plot"
   ]
  },
  {
   "cell_type": "code",
   "execution_count": null,
   "metadata": {},
   "outputs": [],
   "source": [
    "conditions_camelyon17 = [condition_translation_dict[c] for c in conditions_camelyon17]\n",
    "conditions_amazon = [condition_translation_dict[c] for c in conditions_amazon]\n",
    "conditions_SkinLesions = [condition_translation_dict[c] for c in conditions_SkinLesions]"
   ]
  },
  {
   "cell_type": "code",
   "execution_count": null,
   "metadata": {},
   "outputs": [],
   "source": [
    "total_amount_of_conditions = len(set(conditions_amazon + conditions_camelyon17 + conditions_SkinLesions))"
   ]
  },
  {
   "cell_type": "code",
   "execution_count": null,
   "metadata": {},
   "outputs": [],
   "source": [
    "total_amount_of_conditions"
   ]
  },
  {
   "cell_type": "code",
   "execution_count": null,
   "metadata": {},
   "outputs": [],
   "source": [
    "all_unique_conditions = set(conditions_amazon + conditions_camelyon17 + conditions_SkinLesions)\n",
    "\n",
    "all_unique_conditions = [c for c in all_unique_conditions if c not in condition_translation_dict_network_ablation.values()]\n",
    "\n",
    "all_network_ablation_conditions = list(condition_translation_dict_network_ablation.values())\n",
    "\n",
    "fitted_on_OOD_conditions = [c for c in all_unique_conditions if 'fitted on OOD' in c]\n",
    "standard_conditions = [c for c in all_unique_conditions if c not in fitted_on_OOD_conditions]\n",
    "\n",
    "fitted_on_OOD_ef_conditions = [c for c in fitted_on_OOD_conditions if 'EF' in c]\n",
    "fitted_on_OOD_conditions = [c for c in fitted_on_OOD_conditions if c not in fitted_on_OOD_ef_conditions]\n",
    "ef_conditions = [c for c in standard_conditions if \"EF\" in c]\n",
    "standard_conditions = [c for c in standard_conditions if c not in ef_conditions]\n",
    "scaling_ablation_conditions = [c for c in standard_conditions if \"only\" in c]\n",
    "standard_conditions = [c for c in standard_conditions if c not in scaling_ablation_conditions]\n"
   ]
  },
  {
   "cell_type": "code",
   "execution_count": null,
   "metadata": {},
   "outputs": [],
   "source": [
    "all_unique_conditions = list(all_unique_conditions)\n",
    "all_unique_conditions.sort()\n",
    "standard_conditions = list(standard_conditions)\n",
    "standard_conditions.sort()\n",
    "\n",
    "fitted_on_OOD_conditions = list(fitted_on_OOD_conditions)\n",
    "fitted_on_OOD_conditions.sort()\n",
    "fitted_on_OOD_ef_conditions = list(fitted_on_OOD_ef_conditions)\n",
    "fitted_on_OOD_ef_conditions.sort()\n",
    "ef_conditions = list(ef_conditions)\n",
    "ef_conditions.sort()\n",
    "scaling_ablation_conditions = list(scaling_ablation_conditions)\n",
    "scaling_ablation_conditions.sort()\n"
   ]
  },
  {
   "cell_type": "code",
   "execution_count": null,
   "metadata": {},
   "outputs": [],
   "source": [
    "all_unique_conditions"
   ]
  },
  {
   "cell_type": "code",
   "execution_count": null,
   "metadata": {},
   "outputs": [],
   "source": [
    "standard_conditions"
   ]
  },
  {
   "cell_type": "code",
   "execution_count": null,
   "metadata": {},
   "outputs": [],
   "source": [
    "fitted_on_OOD_conditions"
   ]
  },
  {
   "cell_type": "code",
   "execution_count": null,
   "metadata": {},
   "outputs": [],
   "source": [
    "fitted_on_OOD_ef_conditions"
   ]
  },
  {
   "cell_type": "code",
   "execution_count": null,
   "metadata": {},
   "outputs": [],
   "source": [
    "ef_conditions"
   ]
  },
  {
   "cell_type": "code",
   "execution_count": null,
   "metadata": {},
   "outputs": [],
   "source": [
    "scaling_ablation_conditions"
   ]
  },
  {
   "cell_type": "code",
   "execution_count": null,
   "metadata": {},
   "outputs": [],
   "source": [
    "all_network_ablation_conditions"
   ]
  },
  {
   "cell_type": "markdown",
   "metadata": {},
   "source": [
    "# Table of accuracies"
   ]
  },
  {
   "cell_type": "code",
   "execution_count": null,
   "metadata": {},
   "outputs": [],
   "source": []
  },
  {
   "cell_type": "code",
   "execution_count": null,
   "metadata": {},
   "outputs": [],
   "source": []
  },
  {
   "cell_type": "code",
   "execution_count": null,
   "metadata": {},
   "outputs": [],
   "source": [
    "print(\"\\\\begin{table}\\n\\\\begin{center}\\n\\\\begin{tabular}{l|cc}\")\n",
    "print(\"    Dataset / Model & ID & OOD \\\\\\\\\")\n",
    "for conditions, results, dataset in zip([conditions_amazon, conditions_camelyon17, conditions_SkinLesions],\n",
    "                                        [results_amazon, results_camelyon17, results_SkinLesions],\n",
    "                                        ['WILDS-Amazon', 'WILDS-Camelyon17', 'SkinLesions']):\n",
    "\n",
    "    print(\"    \\\\hline\")\n",
    "    print(\"    \\\\textbf{\" + dataset + \"} & & \\\\\\\\\")\n",
    "\n",
    "    for condition, result in zip(conditions, results):\n",
    "        ret = \"        \\\\hspace{5mm} \" + condition + \" & \"\n",
    "        ret += \" & \".join([f\"{i['acc'] * 100:.1f}\" for i in result])\n",
    "        ret += \" \\\\\\\\\"\n",
    "        print(ret)\n",
    "\n",
    "print(\"\\\\end{tabular}\\n\\\\end{center}\\n\\\\caption{[TODO]}\\\\label{[TODO]}\\n\\\\end{table}\")"
   ]
  },
  {
   "cell_type": "code",
   "execution_count": null,
   "metadata": {},
   "outputs": [],
   "source": []
  },
  {
   "cell_type": "code",
   "execution_count": null,
   "metadata": {},
   "outputs": [],
   "source": []
  },
  {
   "cell_type": "markdown",
   "metadata": {},
   "source": [
    "# Plotting"
   ]
  },
  {
   "cell_type": "code",
   "execution_count": null,
   "metadata": {},
   "outputs": [],
   "source": [
    "### Color palette\n",
    "\n",
    "palette = plt.get_cmap('Set1')\n",
    "condition_to_color = {c: palette(i / len(standard_conditions)) for i, c in enumerate(standard_conditions)}\n",
    "palette = plt.get_cmap('Set2')\n",
    "condition_to_color.update({c: palette(i / len(fitted_on_OOD_conditions)) for i, c in enumerate(fitted_on_OOD_conditions)})\n",
    "\n",
    "palette = plt.get_cmap('Set2')\n",
    "condition_to_color.update({c: palette(i / len(ef_conditions)) for i, c in enumerate(ef_conditions)})\n",
    "\n",
    "palette = plt.get_cmap('Set2')\n",
    "condition_to_color.update({c: palette(i / len(fitted_on_OOD_ef_conditions)) for i, c in enumerate(fitted_on_OOD_ef_conditions)})\n",
    "\n",
    "palette = plt.get_cmap('Set2')\n",
    "condition_to_color.update({c: palette(i / len(scaling_ablation_conditions)) for i, c in enumerate(scaling_ablation_conditions)})\n",
    "\n",
    "condition_to_color[\"MAP\"] = \"darkblue\""
   ]
  },
  {
   "cell_type": "code",
   "execution_count": null,
   "metadata": {},
   "outputs": [],
   "source": [
    "\n",
    "\n",
    "def combined_plot(conditions_amazon, results_amazon, conditions_camelyon17, results_camelyon17, conditions_SkinLesions, results_SkinLesions, legend_order_permutation=None, fmtlist = None):\n",
    "    fig, ax = plt.subplots(2, 3)\n",
    "    # fig.set_size_inches([12, 8])\n",
    "\n",
    "    if not fmtlist:\n",
    "        fmtlist = [[\"o-\" for _ in range(len(conditions_amazon))] for _ in range(6)]\n",
    "\n",
    "    for condition, results, fmt in zip(conditions_amazon, results_amazon, fmtlist[0]):\n",
    "        datasets = range(len(results))\n",
    "        # ax[0][0].plot(datasets, [i['ece'] for i in results], \"o-\", label=condition, color=condition_to_color[condition])\n",
    "        ax[0][0].errorbar(datasets, [i['ece'] for i in results], yerr = [i['ece_se'] for i in results], fmt=fmt, label=condition, color=condition_to_color[condition])\n",
    "    ax[0][0].set_ylabel(\"ECE\")\n",
    "    ax[0][0].set_xticks([0,1])\n",
    "    ax[0][0].set_xticklabels([\"ID\", \"OOD\"])\n",
    "    # ax[0][0].legend() # TODO testing\n",
    "\n",
    "\n",
    "    for condition, results, fmt in zip(conditions_amazon, results_amazon, fmtlist[1]):\n",
    "        datasets = range(len(results))\n",
    "        # ax[1][0].plot(datasets, [i['nll'] for i in results], \"o-\", label=condition, color=condition_to_color[condition])\n",
    "        ax[1][0].errorbar(datasets, [i['nll'] for i in results], yerr = [i['nll_se'] for i in results], fmt=fmt, label=condition, color=condition_to_color[condition])\n",
    "    ax[1][0].set_xticks([0,1])\n",
    "    ax[1][0].set_xticklabels([\"ID\", \"OOD\"])\n",
    "    ax[1][0].set_ylabel(\"NLL\")\n",
    "    # ax[1][0].set_xlabel(\"WILDS-amazon\\n(Text classification)\")\n",
    "    ax[1][0].set_xlabel(\"WILDS-Amazon\")\n",
    "    # ax[1][0].legend() # TODO testing\n",
    "\n",
    "\n",
    "    for condition, results, fmt in zip(conditions_camelyon17, results_camelyon17, fmtlist[2]):\n",
    "        datasets = range(len(results))\n",
    "        # ax[0][1].plot(datasets, [i['ece'] for i in results], \"o-\", label=condition, color=condition_to_color[condition])\n",
    "        ax[0][1].errorbar(datasets, [i['ece'] for i in results], yerr = [i['ece_se'] for i in results], fmt=fmt, label=condition, color=condition_to_color[condition])\n",
    "    ax[0][1].set_xticks([0,1])\n",
    "    ax[0][1].set_xticklabels([\"ID\", \"OOD\"])\n",
    "    # ax[0][1].legend() # TODO testing\n",
    "\n",
    "\n",
    "    for condition, results, fmt in zip(conditions_camelyon17, results_camelyon17, fmtlist[3]):\n",
    "        datasets = range(len(results))\n",
    "        # ax[1][1].plot(datasets, [i['nll'] for i in results], \"o-\", label=condition, color=condition_to_color[condition])\n",
    "        ax[1][1].errorbar(datasets, [i['nll'] for i in results], yerr = [i['nll_se'] for i in results], fmt=fmt, label=condition, color=condition_to_color[condition])\n",
    "    # ax[1][1].set_xlabel(\"WILDS-camelyon17\\n(Histopathology tumor detection)\")\n",
    "    ax[1][1].set_xlabel(\"WILDS-Camelyon17\")\n",
    "    ax[1][1].set_xticks([0,1])\n",
    "    ax[1][1].set_xticklabels([\"ID\", \"OOD\"])\n",
    "    # ax[1][1].legend() # TODO testing\n",
    "\n",
    "\n",
    "    for condition, results, fmt in zip(conditions_SkinLesions, results_SkinLesions, fmtlist[4]):\n",
    "        datasets = range(len(results))\n",
    "        # ax[0][2].plot(datasets, [i['ece'] for i in results], \"o-\", label=condition, color=condition_to_color[condition])\n",
    "        ax[0][2].errorbar(datasets, [i['ece'] for i in results], yerr = [i['ece_se'] for i in results], fmt=fmt, label=condition, color=condition_to_color[condition])\n",
    "    ax[0][2].set_xticks([0,1])\n",
    "    ax[0][2].set_xticklabels([\"ID\", \"OOD\"])\n",
    "    # ax[0][2].legend() # TODO testing\n",
    "\n",
    "\n",
    "    for condition, results, fmt in zip(conditions_SkinLesions, results_SkinLesions, fmtlist[5]):\n",
    "        datasets = range(len(results))\n",
    "        # ax[1][2].plot(datasets, [i['nll'] for i in results], \"o-\", label=condition, color=condition_to_color[condition])\n",
    "        ax[1][2].errorbar(datasets, [i['nll'] for i in results], yerr = [i['nll_se'] for i in results], fmt=fmt, label=condition, color=condition_to_color[condition])\n",
    "    # ax[1][2].set_xlabel(\"SkinLesions\\n(Dermatoscopic tumor detection)\")\n",
    "    ax[1][2].set_xlabel(\"SkinLesions\")\n",
    "    ax[1][2].set_xticks([0,1])\n",
    "    ax[1][2].set_xticklabels([\"ID\", \"OOD\"])\n",
    "    # ax[1][2].legend() # TODO testing\n",
    "\n",
    "\n",
    "    handles, labels = ax[1][2].get_legend_handles_labels()\n",
    "    if legend_order_permutation:\n",
    "        handles, labels = [handles[idx] for idx in legend_order_permutation],[labels[idx] for idx in legend_order_permutation]\n",
    "\n",
    "    # plt.figlegend(handles, labels, loc='center left', bbox_to_anchor=(1, 0.55))\n",
    "    ax[0][2].legend(handles, labels, loc='center left', bbox_to_anchor=(1, 0.5))\n",
    "    # plt.tight_layout()\n",
    "    # plt.show()\n",
    "\n"
   ]
  },
  {
   "cell_type": "code",
   "execution_count": null,
   "metadata": {},
   "outputs": [],
   "source": [
    "def filter_conditions(conditions, results, wanted_conditions_list):\n",
    "    ret_conditions, ret_results = [], []\n",
    "\n",
    "    for c, r in zip(conditions, results): \n",
    "        if c in wanted_conditions_list:\n",
    "            ret_conditions.append(c)\n",
    "            ret_results.append(r)\n",
    "\n",
    "    firstprint = True\n",
    "    for c in wanted_conditions_list:\n",
    "        if c not in conditions:\n",
    "            if firstprint:\n",
    "                print(\"#####\")\n",
    "                firstprint=False\n",
    "\n",
    "            print(f\"'{c}' not found in conditions\")\n",
    "\n",
    "    return ret_conditions, ret_results"
   ]
  },
  {
   "cell_type": "code",
   "execution_count": null,
   "metadata": {},
   "outputs": [],
   "source": [
    "wanted_conditions = all_unique_conditions\n",
    "conditions_amazon_filtered, results_amazon_filtered = filter_conditions(conditions_amazon, results_amazon, wanted_conditions)\n",
    "conditions_camelyon17_filtered, results_camelyon17_filtered = filter_conditions(conditions_camelyon17, results_camelyon17, wanted_conditions)\n",
    "conditions_SkinLesions_filtered, results_SkinLesions_filtered = filter_conditions(conditions_SkinLesions, results_SkinLesions, wanted_conditions)\n",
    "\n",
    "conditions_amazon_filtered, results_amazon_filtered = zip(*sorted(zip(conditions_amazon_filtered, results_amazon_filtered)))\n",
    "conditions_camelyon17_filtered, results_camelyon17_filtered = zip(*sorted(zip(conditions_camelyon17_filtered, results_camelyon17_filtered)))\n",
    "conditions_SkinLesions_filtered, results_SkinLesions_filtered = zip(*sorted(zip(conditions_SkinLesions_filtered, results_SkinLesions_filtered)))\n",
    "\n",
    "combined_plot(conditions_amazon_filtered, results_amazon_filtered, conditions_camelyon17_filtered, results_camelyon17_filtered, conditions_SkinLesions_filtered, results_SkinLesions_filtered)\n",
    "plt.show()"
   ]
  },
  {
   "cell_type": "code",
   "execution_count": null,
   "metadata": {},
   "outputs": [],
   "source": [
    "conditions_amazon_filtered"
   ]
  },
  {
   "cell_type": "code",
   "execution_count": null,
   "metadata": {},
   "outputs": [],
   "source": [
    "# TODO\n",
    "# Concise plots:\n",
    "# Baseline (MAP, LLLA, TS(pycalib)) (+ TS(mine?))\n",
    "wanted_conditions = [\"MAP\", \"LLLA\", \"TS (pycalib)\", \"TS (WITS)\"]\n",
    "conditions_amazon_filtered, results_amazon_filtered = filter_conditions(conditions_amazon, results_amazon, wanted_conditions)\n",
    "conditions_camelyon17_filtered, results_camelyon17_filtered = filter_conditions(conditions_camelyon17, results_camelyon17, wanted_conditions)\n",
    "conditions_SkinLesions_filtered, results_SkinLesions_filtered = filter_conditions(conditions_SkinLesions, results_SkinLesions, wanted_conditions)\n",
    "\n",
    "conditions_amazon_filtered, results_amazon_filtered = zip(*sorted(zip(conditions_amazon_filtered, results_amazon_filtered)))\n",
    "conditions_camelyon17_filtered, results_camelyon17_filtered = zip(*sorted(zip(conditions_camelyon17_filtered, results_camelyon17_filtered)))\n",
    "conditions_SkinLesions_filtered, results_SkinLesions_filtered = zip(*sorted(zip(conditions_SkinLesions_filtered, results_SkinLesions_filtered)))\n",
    "\n",
    "conditions_amazon_filtered, results_amazon_filtered, conditions_camelyon17_filtered, results_camelyon17_filtered, conditions_SkinLesions_filtered, results_SkinLesions_filtered = list(conditions_amazon_filtered), list(results_amazon_filtered), list(conditions_camelyon17_filtered), list(results_camelyon17_filtered), list(conditions_SkinLesions_filtered), list(results_SkinLesions_filtered)\n",
    "conditions_amazon_filtered[0], conditions_amazon_filtered[1] = conditions_amazon_filtered[1], conditions_amazon_filtered[0]\n",
    "results_amazon_filtered[0], results_amazon_filtered[1] = results_amazon_filtered[1], results_amazon_filtered[0]\n",
    "conditions_camelyon17_filtered[0], conditions_camelyon17_filtered[1] = conditions_camelyon17_filtered[1], conditions_camelyon17_filtered[0]\n",
    "results_camelyon17_filtered[0], results_camelyon17_filtered[1] = results_camelyon17_filtered[1], results_camelyon17_filtered[0]\n",
    "conditions_SkinLesions_filtered[0], conditions_SkinLesions_filtered[1] = conditions_SkinLesions_filtered[1], conditions_SkinLesions_filtered[0]\n",
    "results_SkinLesions_filtered[0], results_SkinLesions_filtered[1] = results_SkinLesions_filtered[1], results_SkinLesions_filtered[0]\n",
    "\n",
    "condition_to_color.update({'MAP': bundles.rgb.tue_red,\n",
    "                          'TS (pycalib)': bundles.rgb.tue_lightorange,\n",
    "                          \"TS (WITS)\": bundles.rgb.tue_orange,\n",
    "                          'LLLA': bundles.rgb.tue_violet,\n",
    "                          'LLLA+CVS': bundles.rgb.tue_lightblue,\n",
    "                          'LLLA+WITS': bundles.rgb.tue_blue,\n",
    "                          'LLLA+WITS+CVS': bundles.rgb.tue_darkblue,\n",
    "                          \"fitted on OOD: TS (WITS)\": bundles.rgb.tue_gray,\n",
    "                          'fitted on OOD: LLLA+CVS': bundles.rgb.tue_lightgreen,\n",
    "                          'fitted on OOD: LLLA+WITS': bundles.rgb.tue_green,\n",
    "                          'fitted on OOD: LLLA+WITS+CVS': bundles.rgb.tue_darkgreen\n",
    "})\n",
    "\n",
    "\n",
    "\n",
    "\n",
    "fmtlist = [[\"o-\", \"o--\", \"o-\", \"o--\"],\n",
    "           [\"o-\", \"o--\", \"o-\", \"o--\"],\n",
    "           [\"o-\", \"o:\", \"o--\", \"o-\"],\n",
    "           [\"o-\", \"o:\", \"o--\", \"o-\"],\n",
    "           [\"o-\", \"o-\", \"o-\", \"o-\"],\n",
    "           [\"o-\", \"o-\", \"o-\", \"o-\"]]\n",
    "combined_plot(conditions_amazon_filtered, results_amazon_filtered, conditions_camelyon17_filtered, results_camelyon17_filtered, conditions_SkinLesions_filtered, results_SkinLesions_filtered, fmtlist=fmtlist, legend_order_permutation=[0, 3, 2, 1])\n",
    "if not os.path.exists('img/Results/RealWorld_ECE_NLL/'):\n",
    "    os.makedirs('img/Results/RealWorld_ECE_NLL/')\n",
    "plt.savefig('img/Results/RealWorld_ECE_NLL/MAP_TS_LLLA_ECE_NLL.pdf')\n",
    "plt.show()\n"
   ]
  },
  {
   "cell_type": "code",
   "execution_count": null,
   "metadata": {},
   "outputs": [],
   "source": [
    "# WITS / Laplace with Cov-scaling\n",
    "\n",
    "wanted_conditions = deepcopy(standard_conditions)\n",
    "wanted_conditions.remove(\"TS (pycalib)\")\n",
    "conditions_amazon_filtered, results_amazon_filtered = filter_conditions(conditions_amazon, results_amazon, wanted_conditions)\n",
    "conditions_camelyon17_filtered, results_camelyon17_filtered = filter_conditions(conditions_camelyon17, results_camelyon17, wanted_conditions)\n",
    "conditions_SkinLesions_filtered, results_SkinLesions_filtered = filter_conditions(conditions_SkinLesions, results_SkinLesions, wanted_conditions)\n",
    "\n",
    "conditions_amazon_filtered, results_amazon_filtered = zip(*sorted(zip(conditions_amazon_filtered, results_amazon_filtered)))\n",
    "conditions_camelyon17_filtered, results_camelyon17_filtered = zip(*sorted(zip(conditions_camelyon17_filtered, results_camelyon17_filtered)))\n",
    "conditions_SkinLesions_filtered, results_SkinLesions_filtered = zip(*sorted(zip(conditions_SkinLesions_filtered, results_SkinLesions_filtered)))\n",
    "\n",
    "conditions_amazon_filtered, results_amazon_filtered, conditions_camelyon17_filtered, results_camelyon17_filtered, conditions_SkinLesions_filtered, results_SkinLesions_filtered = list(conditions_amazon_filtered), list(results_amazon_filtered), list(conditions_camelyon17_filtered), list(results_camelyon17_filtered), list(conditions_SkinLesions_filtered), list(results_SkinLesions_filtered)\n",
    "conditions_amazon_filtered[0], conditions_amazon_filtered[4] = conditions_amazon_filtered[4], conditions_amazon_filtered[0]\n",
    "results_amazon_filtered[0], results_amazon_filtered[4] = results_amazon_filtered[4], results_amazon_filtered[0]\n",
    "conditions_camelyon17_filtered[0], conditions_camelyon17_filtered[4] = conditions_camelyon17_filtered[4], conditions_camelyon17_filtered[0]\n",
    "results_camelyon17_filtered[0], results_camelyon17_filtered[4] = results_camelyon17_filtered[4], results_camelyon17_filtered[0]\n",
    "conditions_SkinLesions_filtered[0], conditions_SkinLesions_filtered[4] = conditions_SkinLesions_filtered[4], conditions_SkinLesions_filtered[0]\n",
    "results_SkinLesions_filtered[0], results_SkinLesions_filtered[4] = results_SkinLesions_filtered[4], results_SkinLesions_filtered[0]\n",
    "\n",
    "fmtlist = [[\"o-\", \"o-\", \"o-\", \"o--\", \"o--\", \"o--\"],\n",
    "           [\"o-\", \"o-\", \"o-\", \"o--\", \"o--\", \"o--\"],\n",
    "           [\"o-\", \"o-\", \"o--\", \"o:\", \"o--\", \"o:\"],\n",
    "           [\"o-\", \"o-\", \"o--\", \"o:\", \"o--\", \"o:\"],\n",
    "           [\"o-\", \"o-\", \"o-\", \"o-\", \"o--\", \"o-\"],\n",
    "           [\"o-\", \"o-\", \"o-\", \"o-\", \"o-\", \"o-\"]]\n",
    "\n",
    "\n",
    "\n",
    "combined_plot(conditions_amazon_filtered, results_amazon_filtered, conditions_camelyon17_filtered, results_camelyon17_filtered, conditions_SkinLesions_filtered, results_SkinLesions_filtered, fmtlist=fmtlist, legend_order_permutation=[0, 5, 3, 2, 4, 1])\n",
    "if not os.path.exists('img/Results/RealWorld_ECE_NLL/'):\n",
    "    os.makedirs('img/Results/RealWorld_ECE_NLL/')\n",
    "plt.savefig('img/Results/RealWorld_ECE_NLL/WITS_CovScaling_NLL_ECE.pdf')\n",
    "plt.show()\n"
   ]
  },
  {
   "cell_type": "code",
   "execution_count": null,
   "metadata": {},
   "outputs": [],
   "source": [
    "# Examine EF\n",
    "\n",
    "wanted_conditions = [\"MAP\", \"LLLA(EF)+WITS+CVS\", \"LLLA(EF)+WITS\", \"LLLA(EF)\", \"LLLA(EF)+CVS\"]\n",
    "conditions_amazon_filtered, results_amazon_filtered = filter_conditions(conditions_amazon, results_amazon, wanted_conditions)\n",
    "conditions_camelyon17_filtered, results_camelyon17_filtered = filter_conditions(conditions_camelyon17, results_camelyon17, wanted_conditions)\n",
    "conditions_SkinLesions_filtered, results_SkinLesions_filtered = filter_conditions(conditions_SkinLesions, results_SkinLesions, wanted_conditions)\n",
    "\n",
    "conditions_amazon_filtered, results_amazon_filtered = zip(*sorted(zip(conditions_amazon_filtered, results_amazon_filtered)))\n",
    "conditions_camelyon17_filtered, results_camelyon17_filtered = zip(*sorted(zip(conditions_camelyon17_filtered, results_camelyon17_filtered)))\n",
    "conditions_SkinLesions_filtered, results_SkinLesions_filtered = zip(*sorted(zip(conditions_SkinLesions_filtered, results_SkinLesions_filtered)))\n",
    "\n",
    "conditions_amazon_filtered, results_amazon_filtered, conditions_camelyon17_filtered, results_camelyon17_filtered, conditions_SkinLesions_filtered, results_SkinLesions_filtered = list(conditions_amazon_filtered), list(results_amazon_filtered), list(conditions_camelyon17_filtered), list(results_camelyon17_filtered), list(conditions_SkinLesions_filtered), list(results_SkinLesions_filtered)\n",
    "conditions_amazon_filtered[0], conditions_amazon_filtered[4] = conditions_amazon_filtered[4], conditions_amazon_filtered[0]\n",
    "results_amazon_filtered[0], results_amazon_filtered[4] = results_amazon_filtered[4], results_amazon_filtered[0]\n",
    "conditions_camelyon17_filtered[0], conditions_camelyon17_filtered[4] = conditions_camelyon17_filtered[4], conditions_camelyon17_filtered[0]\n",
    "results_camelyon17_filtered[0], results_camelyon17_filtered[4] = results_camelyon17_filtered[4], results_camelyon17_filtered[0]\n",
    "conditions_SkinLesions_filtered[0], conditions_SkinLesions_filtered[4] = conditions_SkinLesions_filtered[4], conditions_SkinLesions_filtered[0]\n",
    "results_SkinLesions_filtered[0], results_SkinLesions_filtered[4] = results_SkinLesions_filtered[4], results_SkinLesions_filtered[0]\n",
    "\n",
    "condition_to_color.update({'MAP': bundles.rgb.tue_red,\n",
    "                          'TS (pycalib)': bundles.rgb.tue_lightorange,\n",
    "                          \"TS (WITS)\": bundles.rgb.tue_orange,\n",
    "                          'LLLA(EF)': bundles.rgb.tue_violet,\n",
    "                          'LLLA(EF)+CVS': bundles.rgb.tue_lightblue,\n",
    "                          'LLLA(EF)+WITS': bundles.rgb.tue_blue,\n",
    "                          'LLLA(EF)+WITS+CVS': bundles.rgb.tue_darkblue,\n",
    "                          \"fitted on OOD: TS (WITS)\": bundles.rgb.tue_gray,\n",
    "                          'fitted on OOD: LLLA+CVS': bundles.rgb.tue_lightgreen,\n",
    "                          'fitted on OOD: LLLA+WITS': bundles.rgb.tue_green,\n",
    "                          'fitted on OOD: LLLA+WITS+CVS': bundles.rgb.tue_darkgreen\n",
    "})\n",
    "\n",
    "\n",
    "fmtlist = [[\"o-\", \"o-\", \"o--\", \"o--\", \"o--\"],\n",
    "           [\"o-\", \"o-\", \"o--\", \"o--\", \"o--\"],\n",
    "           [\"o-\", \"o--\", \"o:\", \"o--\", \"o:\"],\n",
    "           [\"o-\", \"o--\", \"o:\", \"o--\", \"o:\"],\n",
    "           [\"o-\", \"o-\", \"o-\", \"o-\", \"o--\"],\n",
    "           [\"o-\", \"o-\", \"o-\", \"o-\", \"o--\"]]\n",
    "\n",
    "combined_plot(conditions_amazon_filtered, results_amazon_filtered, conditions_camelyon17_filtered, results_camelyon17_filtered, conditions_SkinLesions_filtered, results_SkinLesions_filtered, fmtlist=fmtlist, legend_order_permutation=[0, 4, 2, 1, 3])\n",
    "if not os.path.exists('img/Results/RealWorld_ECE_NLL/'):\n",
    "    os.makedirs('img/Results/RealWorld_ECE_NLL/')\n",
    "plt.savefig('img/Results/RealWorld_ECE_NLL/WITS_CovScaling_NLL_ECE_EF_Ablation.pdf')\n",
    "plt.show()\n"
   ]
  },
  {
   "cell_type": "code",
   "execution_count": null,
   "metadata": {},
   "outputs": [],
   "source": [
    "# # Directly comparing WITS, Laplace Cov-scaling, both\n",
    "\n",
    "# wanted_conditions = [\"MAP\", \"LLLA+WITS\", \"LLLA+CVS\", \"LLLA+WITS+CVS\"]\n",
    "# conditions_amazon_filtered, results_amazon_filtered = filter_conditions(conditions_amazon, results_amazon, wanted_conditions)\n",
    "# conditions_camelyon17_filtered, results_camelyon17_filtered = filter_conditions(conditions_camelyon17, results_camelyon17, wanted_conditions)\n",
    "\n",
    "# combined_plot(conditions_amazon_filtered, results_amazon_filtered, conditions_camelyon17_filtered, results_camelyon17_filtered, legend_order_permutation=[3, 0, 1, 2])\n"
   ]
  },
  {
   "cell_type": "code",
   "execution_count": null,
   "metadata": {},
   "outputs": [],
   "source": [
    "\n",
    "# TODO make this plot with Amazon-OOD as soon as I have this data\n",
    "\n",
    "def combined_plot_OnlyOOD(conditions_camelyon17, results_camelyon17, legend_order_permutation=None):\n",
    "    fig, ax = plt.subplots(2, 1)\n",
    "    # fig.set_size_inches([12, 8])\n",
    "\n",
    "\n",
    "    for condition, results in zip(conditions_camelyon17, results_camelyon17):\n",
    "        datasets = range(len(results))\n",
    "        # ax[0][0].plot(datasets, [i['ece'] for i in results], \"o-\", label=condition, color=condition_to_color[condition])\n",
    "        ax[0].errorbar(datasets, [i['ece'] for i in results], yerr = [i['ece_se'] for i in results], fmt=\"o-\", label=condition, color=condition_to_color[condition])\n",
    "    ax[0].set_xticks([0,1])\n",
    "    ax[0].set_ylabel(\"ECE\")\n",
    "    ax[0].set_xticklabels([\"ID\", \"OOD\"])\n",
    "    # ax[0][0].legend() # TODO testing\n",
    "\n",
    "\n",
    "    for condition, results in zip(conditions_camelyon17, results_camelyon17):\n",
    "        datasets = range(len(results))\n",
    "        # ax[1].plot(datasets, [i['nll'] for i in results], \"o-\", label=condition, color=condition_to_color[condition])\n",
    "        ax[1].errorbar(datasets, [i['nll'] for i in results], yerr = [i['nll_se'] for i in results], fmt=\"o-\", label=condition, color=condition_to_color[condition])\n",
    "    # ax[1].set_xlabel(\"WILDS-camelyon17\\n(Histopathology tumor detection)\")\n",
    "    ax[1].set_xlabel(\"WILDS-Camelyon17\")\n",
    "    ax[1].set_xticks([0,1])\n",
    "    ax[1].set_ylabel(\"NLL\")\n",
    "    ax[1].set_xticklabels([\"ID\", \"OOD\"])\n",
    "    # ax[1].legend() # TODO testing\n",
    "\n",
    "    handles, labels = ax[1].get_legend_handles_labels()\n",
    "    if legend_order_permutation:\n",
    "        handles, labels = [handles[idx] for idx in legend_order_permutation],[labels[idx] for idx in legend_order_permutation]\n",
    "\n",
    "    # plt.figlegend(handles, labels, loc='center left', bbox_to_anchor=(1, 0.55))\n",
    "    ax[0].legend(handles, labels, loc='center left', bbox_to_anchor=(1, 0.5))\n",
    "    # plt.tight_layout()\n",
    "    # plt.show()\n",
    "\n"
   ]
  },
  {
   "cell_type": "code",
   "execution_count": null,
   "metadata": {},
   "outputs": [],
   "source": [
    "\n",
    "\n",
    "def combined_plot_OnlyOODTwo(conditions_amazon, results_amazon, conditions_camelyon17, results_camelyon17, conditions_SkinLesions, results_SkinLesions, legend_order_permutation=None, fmtlist = None):\n",
    "    fig, ax = plt.subplots(2, 2)\n",
    "    # fig.set_size_inches([12, 8])\n",
    "\n",
    "    if not fmtlist:\n",
    "        fmtlist = [[\"o-\" for _ in range(len(conditions_amazon))] for _ in range(6)]\n",
    "\n",
    "    for condition, results, fmt in zip(conditions_amazon, results_amazon, fmtlist[0]):\n",
    "        datasets = range(len(results))\n",
    "        # ax[0][0].plot(datasets, [i['ece'] for i in results], \"o-\", label=condition, color=condition_to_color[condition])\n",
    "        ax[0][0].errorbar(datasets, [i['ece'] for i in results], yerr = [i['ece_se'] for i in results], fmt=fmt, label=condition, color=condition_to_color[condition])\n",
    "    ax[0][0].set_ylabel(\"ECE\")\n",
    "    ax[0][0].set_xticks([0,1])\n",
    "    ax[0][0].set_xticklabels([\"ID\", \"OOD\"])\n",
    "    # ax[0][0].legend() # TODO testing\n",
    "\n",
    "\n",
    "    for condition, results, fmt in zip(conditions_amazon, results_amazon, fmtlist[1]):\n",
    "        datasets = range(len(results))\n",
    "        # ax[1][0].plot(datasets, [i['nll'] for i in results], \"o-\", label=condition, color=condition_to_color[condition])\n",
    "        ax[1][0].errorbar(datasets, [i['nll'] for i in results], yerr = [i['nll_se'] for i in results], fmt=fmt, label=condition, color=condition_to_color[condition])\n",
    "    ax[1][0].set_xticks([0,1])\n",
    "    ax[1][0].set_xticklabels([\"ID\", \"OOD\"])\n",
    "    ax[1][0].set_ylabel(\"NLL\")\n",
    "    # ax[1][0].set_xlabel(\"WILDS-amazon\\n(Text classification)\")\n",
    "    ax[1][0].set_xlabel(\"WILDS-Amazon\")\n",
    "    # ax[1][0].legend() # TODO testing\n",
    "\n",
    "\n",
    "    for condition, results, fmt in zip(conditions_camelyon17, results_camelyon17, fmtlist[2]):\n",
    "        datasets = range(len(results))\n",
    "        # ax[0][1].plot(datasets, [i['ece'] for i in results], \"o-\", label=condition, color=condition_to_color[condition])\n",
    "        ax[0][1].errorbar(datasets, [i['ece'] for i in results], yerr = [i['ece_se'] for i in results], fmt=fmt, label=condition, color=condition_to_color[condition])\n",
    "    ax[0][1].set_xticks([0,1])\n",
    "    ax[0][1].set_xticklabels([\"ID\", \"OOD\"])\n",
    "    # ax[0][1].legend() # TODO testing\n",
    "\n",
    "\n",
    "    for condition, results, fmt in zip(conditions_camelyon17, results_camelyon17, fmtlist[3]):\n",
    "        datasets = range(len(results))\n",
    "        # ax[1][1].plot(datasets, [i['nll'] for i in results], \"o-\", label=condition, color=condition_to_color[condition])\n",
    "        ax[1][1].errorbar(datasets, [i['nll'] for i in results], yerr = [i['nll_se'] for i in results], fmt=fmt, label=condition, color=condition_to_color[condition])\n",
    "    # ax[1][1].set_xlabel(\"WILDS-camelyon17\\n(Histopathology tumor detection)\")\n",
    "    ax[1][1].set_xlabel(\"WILDS-Camelyon17\")\n",
    "    ax[1][1].set_xticks([0,1])\n",
    "    ax[1][1].set_xticklabels([\"ID\", \"OOD\"])\n",
    "    # ax[1][1].legend() # TODO testing\n",
    "\n",
    "    handles, labels = ax[0][1].get_legend_handles_labels()\n",
    "    if legend_order_permutation:\n",
    "        handles, labels = [handles[idx] for idx in legend_order_permutation],[labels[idx] for idx in legend_order_permutation]\n",
    "\n",
    "    # plt.figlegend(handles, labels, loc='center left', bbox_to_anchor=(1, 0.55))\n",
    "    ax[0][1].legend(handles, labels, loc='center left', bbox_to_anchor=(1, 0.5))\n",
    "    # plt.tight_layout()\n",
    "    # plt.show()\n",
    "\n"
   ]
  },
  {
   "cell_type": "code",
   "execution_count": null,
   "metadata": {},
   "outputs": [],
   "source": [
    "# fitting on OODVal\n",
    "\n",
    "wanted_conditions = standard_conditions + fitted_on_OOD_conditions\n",
    "wanted_conditions = deepcopy(wanted_conditions)\n",
    "wanted_conditions.remove(\"TS (pycalib)\")\n",
    "wanted_conditions.remove(\"LLLA\")\n",
    "wanted_conditions.remove(\"TS (WITS)\")\n",
    "wanted_conditions.remove(\"LLLA+CVS\")\n",
    "wanted_conditions.remove(\"LLLA+WITS\")\n",
    "\n",
    "# conditions_amazon_filtered, results_amazon_filtered = filter_conditions(conditions_amazon, results_amazon, wanted_conditions)\n",
    "conditions_amazon_filtered, results_amazon_filtered = filter_conditions(conditions_amazon, results_amazon, wanted_conditions)\n",
    "conditions_camelyon17_filtered, results_camelyon17_filtered = filter_conditions(conditions_camelyon17, results_camelyon17, wanted_conditions)\n",
    "conditions_SkinLesions_filtered, results_SkinLesions_filtered = [], []\n",
    "\n",
    "conditions_amazon_filtered, results_amazon_filtered = zip(*sorted(zip(conditions_amazon_filtered, results_amazon_filtered)))\n",
    "conditions_camelyon17_filtered, results_camelyon17_filtered = zip(*sorted(zip(conditions_camelyon17_filtered, results_camelyon17_filtered)))\n",
    "# conditions_SkinLesions_filtered, results_SkinLesions_filtered = zip(*sorted(zip(conditions_SkinLesions_filtered, results_SkinLesions_filtered)))\n",
    "\n",
    "fmtlist = [[\"o-\", \"o-\", \"o-\", \"o--\", \"o-\", \"o:\"],\n",
    "           [\"o-\", \"o-\", \"o-\", \"o-\", \"o--\", \"o:\"],\n",
    "           [\"o-\", \"o-\", \"o-\", \"o-\", \"o-\", \"o-\"],\n",
    "           [\"o-\", \"o-\", \"o-\", \"o-\", \"o--\", \"o:\"]]\n",
    "\n",
    "combined_plot_OnlyOODTwo(conditions_amazon_filtered, results_amazon_filtered, conditions_camelyon17_filtered, results_camelyon17_filtered, conditions_SkinLesions_filtered, results_SkinLesions_filtered, fmtlist=fmtlist, legend_order_permutation=[1, 0, 5, 3, 2, 4])\n",
    "if not os.path.exists('img/Results/RealWorld_ECE_NLL/'):\n",
    "    os.makedirs('img/Results/RealWorld_ECE_NLL/')\n",
    "plt.savefig('img/Results/RealWorld_ECE_NLL/OODVal_NLL_ECE_WithAmazon.pdf')\n",
    "plt.show()\n"
   ]
  },
  {
   "cell_type": "code",
   "execution_count": null,
   "metadata": {},
   "outputs": [],
   "source": [
    "# # fitting on OODVal\n",
    "\n",
    "# wanted_conditions = standard_conditions + fitted_on_OOD_conditions\n",
    "# wanted_conditions = deepcopy(wanted_conditions)\n",
    "# wanted_conditions.remove(\"TS (pycalib)\")\n",
    "# wanted_conditions.remove(\"LLLA\")\n",
    "# wanted_conditions.remove(\"TS (WITS)\")\n",
    "# wanted_conditions.remove(\"LLLA+CVS\")\n",
    "# wanted_conditions.remove(\"LLLA+WITS\")\n",
    "\n",
    "# # conditions_amazon_filtered, results_amazon_filtered = filter_conditions(conditions_amazon, results_amazon, wanted_conditions)\n",
    "# conditions_amazon_filtered, results_amazon_filtered = [], []\n",
    "# conditions_camelyon17_filtered, results_camelyon17_filtered = filter_conditions(conditions_camelyon17, results_camelyon17, wanted_conditions)\n",
    "# conditions_SkinLesions_filtered, results_SkinLesions_filtered = [], []\n",
    "\n",
    "# combined_plot_OnlyOOD(conditions_camelyon17_filtered, results_camelyon17_filtered, legend_order_permutation=[1, 2, 5, 4, 3, 0])\n",
    "# if not os.path.exists('img/Results/RealWorld_ECE_NLL/'):\n",
    "#     os.makedirs('img/Results/RealWorld_ECE_NLL/')\n",
    "# plt.savefig('img/Results/RealWorld_ECE_NLL/OODVal_NLL_ECE.pdf')\n",
    "# plt.show()\n"
   ]
  },
  {
   "cell_type": "markdown",
   "metadata": {},
   "source": [
    "# Ablation on scaling parameters"
   ]
  },
  {
   "cell_type": "code",
   "execution_count": null,
   "metadata": {},
   "outputs": [],
   "source": [
    "wanted_conditions = deepcopy(scaling_ablation_conditions)\n",
    "wanted_conditions += [\"LLLA\", 'LLLA+CVS']\n",
    "# wanted_conditions.remove(\"TS (pycalib)\")\n",
    "conditions_amazon_filtered, results_amazon_filtered = filter_conditions(conditions_amazon, results_amazon, wanted_conditions)\n",
    "conditions_camelyon17_filtered, results_camelyon17_filtered = filter_conditions(conditions_camelyon17, results_camelyon17, wanted_conditions)\n",
    "conditions_SkinLesions_filtered, results_SkinLesions_filtered = filter_conditions(conditions_SkinLesions, results_SkinLesions, wanted_conditions)\n",
    "\n",
    "conditions_amazon_filtered, results_amazon_filtered = zip(*sorted(zip(conditions_amazon_filtered, results_amazon_filtered)))\n",
    "conditions_camelyon17_filtered, results_camelyon17_filtered = zip(*sorted(zip(conditions_camelyon17_filtered, results_camelyon17_filtered)))\n",
    "conditions_SkinLesions_filtered, results_SkinLesions_filtered = zip(*sorted(zip(conditions_SkinLesions_filtered, results_SkinLesions_filtered)))\n",
    "\n",
    "fmtlist = [[\"o-\", \"o-\", \"o:\", \"o:\", \"o-\"],\n",
    "           [\"o-\", \"o-\", \"o:\", \"o:\", \"o-\"],\n",
    "           [\"o-\", \"o-\", \"o:\", \"o-\", \"o:\"],\n",
    "           [\"o-\", \"o-\", \"o:\", \"o-\", \"o:\"],\n",
    "           [\"o-\", \"o-\", \"o-\", \"o-\", \"o-\"],\n",
    "           [\"o-\", \"o-\", \"o-\", \"o-\", \"o--\"]]\n",
    "           \n",
    "combined_plot(conditions_amazon_filtered, results_amazon_filtered, conditions_camelyon17_filtered, results_camelyon17_filtered, conditions_SkinLesions_filtered, results_SkinLesions_filtered, fmtlist=fmtlist)\n",
    "if not os.path.exists('img/Results/RealWorld_ECE_NLL/'):\n",
    "    os.makedirs('img/Results/RealWorld_ECE_NLL/')\n",
    "plt.savefig('img/Results/RealWorld_ECE_NLL/CVS_Parameter_Ablation.pdf')\n",
    "plt.show()\n"
   ]
  },
  {
   "cell_type": "code",
   "execution_count": null,
   "metadata": {},
   "outputs": [],
   "source": []
  },
  {
   "cell_type": "code",
   "execution_count": null,
   "metadata": {},
   "outputs": [],
   "source": []
  },
  {
   "cell_type": "code",
   "execution_count": null,
   "metadata": {},
   "outputs": [],
   "source": []
  },
  {
   "cell_type": "markdown",
   "metadata": {},
   "source": [
    "# Network Ablation"
   ]
  },
  {
   "cell_type": "code",
   "execution_count": null,
   "metadata": {},
   "outputs": [],
   "source": [
    "# all_network_ablation_conditions"
   ]
  },
  {
   "cell_type": "code",
   "execution_count": null,
   "metadata": {},
   "outputs": [],
   "source": []
  },
  {
   "cell_type": "code",
   "execution_count": null,
   "metadata": {},
   "outputs": [],
   "source": [
    "wrn50_all_unique_conditions = [c for c in all_network_ablation_conditions if c[:5] == 'WRN50']\n",
    "\n",
    "\n",
    "wrn50_fitted_on_OOD_conditions = [c for c in wrn50_all_unique_conditions if 'fitted on OOD' in c]\n",
    "wrn50_standard_conditions = [c for c in wrn50_all_unique_conditions if c not in wrn50_fitted_on_OOD_conditions]\n",
    "\n",
    "wrn50_fitted_on_OOD_ef_conditions = [c for c in wrn50_fitted_on_OOD_conditions if 'EF' in c]\n",
    "wrn50_fitted_on_OOD_conditions = [c for c in wrn50_fitted_on_OOD_conditions if c not in wrn50_fitted_on_OOD_ef_conditions]\n",
    "wrn50_ef_conditions = [c for c in wrn50_standard_conditions if \"EF\" in c]\n",
    "wrn50_standard_conditions = [c for c in wrn50_standard_conditions if c not in wrn50_ef_conditions]\n",
    "wrn50_scaling_ablation_conditions = [c for c in wrn50_standard_conditions if \"only\" in c]\n",
    "wrn50_standard_conditions = [c for c in wrn50_standard_conditions if c not in wrn50_scaling_ablation_conditions]\n",
    "\n",
    "wrn50_all_unique_conditions = list(wrn50_all_unique_conditions)\n",
    "wrn50_all_unique_conditions.sort()\n",
    "wrn50_standard_conditions = list(wrn50_standard_conditions)\n",
    "wrn50_standard_conditions.sort()\n",
    "\n",
    "wrn50_fitted_on_OOD_conditions = list(wrn50_fitted_on_OOD_conditions)\n",
    "wrn50_fitted_on_OOD_conditions.sort()\n",
    "wrn50_fitted_on_OOD_ef_conditions = list(wrn50_fitted_on_OOD_ef_conditions)\n",
    "wrn50_fitted_on_OOD_ef_conditions.sort()\n",
    "wrn50_ef_conditions = list(wrn50_ef_conditions)\n",
    "wrn50_ef_conditions.sort()\n",
    "wrn50_scaling_ablation_conditions = list(wrn50_scaling_ablation_conditions)\n",
    "wrn50_scaling_ablation_conditions.sort()\n"
   ]
  },
  {
   "cell_type": "code",
   "execution_count": null,
   "metadata": {},
   "outputs": [],
   "source": [
    "### Color palette\n",
    "\n",
    "palette = plt.get_cmap('Set1')\n",
    "condition_to_color.update({c: palette(i / len(wrn50_standard_conditions)) for i, c in enumerate(wrn50_standard_conditions)})\n",
    "palette = plt.get_cmap('Set2')\n",
    "condition_to_color.update({c: palette(i / len(wrn50_fitted_on_OOD_conditions)) for i, c in enumerate(wrn50_fitted_on_OOD_conditions)})\n",
    "\n",
    "palette = plt.get_cmap('Set2')\n",
    "condition_to_color.update({c: palette(i / len(wrn50_ef_conditions)) for i, c in enumerate(wrn50_ef_conditions)})\n",
    "\n",
    "palette = plt.get_cmap('Set2')\n",
    "condition_to_color.update({c: palette(i / len(wrn50_fitted_on_OOD_ef_conditions)) for i, c in enumerate(wrn50_fitted_on_OOD_ef_conditions)})\n",
    "\n",
    "palette = plt.get_cmap('Set2')\n",
    "condition_to_color.update({c: palette(i / len(wrn50_scaling_ablation_conditions)) for i, c in enumerate(wrn50_scaling_ablation_conditions)})\n",
    "\n",
    "condition_to_color[\"MAP\"] = \"darkblue\""
   ]
  },
  {
   "cell_type": "code",
   "execution_count": null,
   "metadata": {},
   "outputs": [],
   "source": []
  },
  {
   "cell_type": "code",
   "execution_count": null,
   "metadata": {},
   "outputs": [],
   "source": [
    "wanted_conditions = wrn50_all_unique_conditions\n",
    "conditions_amazon_filtered, results_amazon_filtered = filter_conditions(conditions_amazon, results_amazon, wanted_conditions)\n",
    "conditions_camelyon17_filtered, results_camelyon17_filtered = filter_conditions(conditions_camelyon17, results_camelyon17, wanted_conditions)\n",
    "conditions_SkinLesions_filtered, results_SkinLesions_filtered = filter_conditions(conditions_SkinLesions, results_SkinLesions, wanted_conditions)\n",
    "\n",
    "combined_plot(conditions_amazon_filtered, results_amazon_filtered, conditions_camelyon17_filtered, results_camelyon17_filtered, conditions_SkinLesions_filtered, results_SkinLesions_filtered)"
   ]
  },
  {
   "cell_type": "code",
   "execution_count": null,
   "metadata": {},
   "outputs": [],
   "source": [
    "# TODO\n",
    "# Concise plots:\n",
    "# Baseline (MAP, LLLA, TS(pycalib)) (+ TS(mine?))\n",
    "wanted_conditions = [\"MAP\", \"LLLA\", \"TS (pycalib)\", \"TS (WITS)\"]\n",
    "wanted_conditions = ['WRN50 ' + c for c in wanted_conditions]\n",
    "conditions_amazon_filtered, results_amazon_filtered = filter_conditions(conditions_amazon, results_amazon, wanted_conditions)\n",
    "conditions_camelyon17_filtered, results_camelyon17_filtered = filter_conditions(conditions_camelyon17, results_camelyon17, wanted_conditions)\n",
    "conditions_SkinLesions_filtered, results_SkinLesions_filtered = filter_conditions(conditions_SkinLesions, results_SkinLesions, wanted_conditions)\n",
    "\n",
    "combined_plot(conditions_amazon_filtered, results_amazon_filtered, conditions_camelyon17_filtered, results_camelyon17_filtered, conditions_SkinLesions_filtered, results_SkinLesions_filtered, legend_order_permutation=[2, 1, 0, 3])\n"
   ]
  },
  {
   "cell_type": "code",
   "execution_count": null,
   "metadata": {},
   "outputs": [],
   "source": [
    "# WITS / Laplace with Cov-scaling\n",
    "\n",
    "wanted_conditions = deepcopy(wrn50_standard_conditions)\n",
    "wanted_conditions.remove(\"WRN50 TS (pycalib)\")\n",
    "conditions_amazon_filtered, results_amazon_filtered = filter_conditions(conditions_amazon, results_amazon, wanted_conditions)\n",
    "conditions_camelyon17_filtered, results_camelyon17_filtered = filter_conditions(conditions_camelyon17, results_camelyon17, wanted_conditions)\n",
    "conditions_SkinLesions_filtered, results_SkinLesions_filtered = filter_conditions(conditions_SkinLesions, results_SkinLesions, wanted_conditions)\n",
    "\n",
    "\n",
    "combined_plot(conditions_amazon_filtered, results_amazon_filtered, conditions_camelyon17_filtered, results_camelyon17_filtered, conditions_SkinLesions_filtered, results_SkinLesions_filtered, legend_order_permutation=[3, 1, 0, 5, 2, 4])\n"
   ]
  },
  {
   "cell_type": "code",
   "execution_count": null,
   "metadata": {},
   "outputs": [],
   "source": []
  },
  {
   "cell_type": "markdown",
   "metadata": {},
   "source": [
    "### Ablation Resnet50"
   ]
  },
  {
   "cell_type": "code",
   "execution_count": null,
   "metadata": {},
   "outputs": [],
   "source": [
    "rn50_all_unique_conditions = [c for c in all_network_ablation_conditions if c[:4] == 'RN50']\n",
    "\n",
    "\n",
    "rn50_fitted_on_OOD_conditions = [c for c in rn50_all_unique_conditions if 'fitted on OOD' in c]\n",
    "rn50_standard_conditions = [c for c in rn50_all_unique_conditions if c not in rn50_fitted_on_OOD_conditions]\n",
    "\n",
    "rn50_fitted_on_OOD_ef_conditions = [c for c in rn50_fitted_on_OOD_conditions if 'EF' in c]\n",
    "rn50_fitted_on_OOD_conditions = [c for c in rn50_fitted_on_OOD_conditions if c not in rn50_fitted_on_OOD_ef_conditions]\n",
    "rn50_ef_conditions = [c for c in rn50_standard_conditions if \"EF\" in c]\n",
    "rn50_standard_conditions = [c for c in rn50_standard_conditions if c not in rn50_ef_conditions]\n",
    "rn50_scaling_ablation_conditions = [c for c in rn50_standard_conditions if \"only\" in c]\n",
    "rn50_standard_conditions = [c for c in rn50_standard_conditions if c not in rn50_scaling_ablation_conditions]\n",
    "\n",
    "rn50_all_unique_conditions = list(rn50_all_unique_conditions)\n",
    "rn50_all_unique_conditions.sort()\n",
    "rn50_standard_conditions = list(rn50_standard_conditions)\n",
    "rn50_standard_conditions.sort()\n",
    "\n",
    "rn50_fitted_on_OOD_conditions = list(rn50_fitted_on_OOD_conditions)\n",
    "rn50_fitted_on_OOD_conditions.sort()\n",
    "rn50_fitted_on_OOD_ef_conditions = list(rn50_fitted_on_OOD_ef_conditions)\n",
    "rn50_fitted_on_OOD_ef_conditions.sort()\n",
    "rn50_ef_conditions = list(rn50_ef_conditions)\n",
    "rn50_ef_conditions.sort()\n",
    "rn50_scaling_ablation_conditions = list(rn50_scaling_ablation_conditions)\n",
    "rn50_scaling_ablation_conditions.sort()\n"
   ]
  },
  {
   "cell_type": "code",
   "execution_count": null,
   "metadata": {},
   "outputs": [],
   "source": [
    "### Color palette\n",
    "\n",
    "palette = plt.get_cmap('Set1')\n",
    "condition_to_color.update({c: palette(i / len(rn50_standard_conditions)) for i, c in enumerate(rn50_standard_conditions)})\n",
    "palette = plt.get_cmap('Set2')\n",
    "condition_to_color.update({c: palette(i / len(rn50_fitted_on_OOD_conditions)) for i, c in enumerate(rn50_fitted_on_OOD_conditions)})\n",
    "\n",
    "palette = plt.get_cmap('Set2')\n",
    "condition_to_color.update({c: palette(i / len(rn50_ef_conditions)) for i, c in enumerate(rn50_ef_conditions)})\n",
    "\n",
    "palette = plt.get_cmap('Set2')\n",
    "condition_to_color.update({c: palette(i / len(rn50_fitted_on_OOD_ef_conditions)) for i, c in enumerate(rn50_fitted_on_OOD_ef_conditions)})\n",
    "\n",
    "palette = plt.get_cmap('Set2')\n",
    "condition_to_color.update({c: palette(i / len(rn50_scaling_ablation_conditions)) for i, c in enumerate(rn50_scaling_ablation_conditions)})\n",
    "\n",
    "condition_to_color[\"MAP\"] = \"darkblue\""
   ]
  },
  {
   "cell_type": "code",
   "execution_count": null,
   "metadata": {},
   "outputs": [],
   "source": [
    "wanted_conditions = rn50_all_unique_conditions\n",
    "conditions_amazon_filtered, results_amazon_filtered = filter_conditions(conditions_amazon, results_amazon, wanted_conditions)\n",
    "conditions_camelyon17_filtered, results_camelyon17_filtered = filter_conditions(conditions_camelyon17, results_camelyon17, wanted_conditions)\n",
    "conditions_SkinLesions_filtered, results_SkinLesions_filtered = filter_conditions(conditions_SkinLesions, results_SkinLesions, wanted_conditions)\n",
    "\n",
    "combined_plot(conditions_amazon_filtered, results_amazon_filtered, conditions_camelyon17_filtered, results_camelyon17_filtered, conditions_SkinLesions_filtered, results_SkinLesions_filtered)"
   ]
  },
  {
   "cell_type": "code",
   "execution_count": null,
   "metadata": {},
   "outputs": [],
   "source": [
    "# TODO\n",
    "# Concise plots:\n",
    "# Baseline (MAP, LLLA, TS(pycalib)) (+ TS(mine?))\n",
    "wanted_conditions = [\"MAP\", \"LLLA\", \"TS (pycalib)\", \"TS (WITS)\"]\n",
    "wanted_conditions = ['RN50 ' + c for c in wanted_conditions]\n",
    "conditions_amazon_filtered, results_amazon_filtered = filter_conditions(conditions_amazon, results_amazon, wanted_conditions)\n",
    "conditions_camelyon17_filtered, results_camelyon17_filtered = filter_conditions(conditions_camelyon17, results_camelyon17, wanted_conditions)\n",
    "conditions_SkinLesions_filtered, results_SkinLesions_filtered = filter_conditions(conditions_SkinLesions, results_SkinLesions, wanted_conditions)\n",
    "\n",
    "combined_plot(conditions_amazon_filtered, results_amazon_filtered, conditions_camelyon17_filtered, results_camelyon17_filtered, conditions_SkinLesions_filtered, results_SkinLesions_filtered, legend_order_permutation=[2, 1, 0, 3])\n"
   ]
  },
  {
   "cell_type": "code",
   "execution_count": null,
   "metadata": {},
   "outputs": [],
   "source": [
    "# WITS / Laplace with Cov-scaling\n",
    "\n",
    "wanted_conditions = deepcopy(rn50_standard_conditions)\n",
    "wanted_conditions.remove(\"RN50 TS (pycalib)\")\n",
    "conditions_amazon_filtered, results_amazon_filtered = filter_conditions(conditions_amazon, results_amazon, wanted_conditions)\n",
    "conditions_camelyon17_filtered, results_camelyon17_filtered = filter_conditions(conditions_camelyon17, results_camelyon17, wanted_conditions)\n",
    "conditions_SkinLesions_filtered, results_SkinLesions_filtered = filter_conditions(conditions_SkinLesions, results_SkinLesions, wanted_conditions)\n",
    "\n",
    "\n",
    "combined_plot(conditions_amazon_filtered, results_amazon_filtered, conditions_camelyon17_filtered, results_camelyon17_filtered, conditions_SkinLesions_filtered, results_SkinLesions_filtered, legend_order_permutation=[3, 1, 0, 5, 2, 4])\n"
   ]
  },
  {
   "cell_type": "code",
   "execution_count": null,
   "metadata": {},
   "outputs": [],
   "source": []
  },
  {
   "cell_type": "code",
   "execution_count": null,
   "metadata": {},
   "outputs": [],
   "source": []
  },
  {
   "cell_type": "code",
   "execution_count": null,
   "metadata": {},
   "outputs": [],
   "source": []
  },
  {
   "attachments": {},
   "cell_type": "markdown",
   "metadata": {},
   "source": [
    "# Amazon"
   ]
  },
  {
   "cell_type": "code",
   "execution_count": null,
   "metadata": {},
   "outputs": [],
   "source": [
    "\n",
    "fig, ax = plt.subplots()\n",
    "\n",
    "for condition, results in zip(conditions_amazon, results_amazon):\n",
    "    ax.scatter(range(2), [i['ece'] for i in results], label=condition)\n",
    "\n",
    "ax.set_xticks([0,1])\n",
    "ax.set_xticklabels([\"ID\", \"OOD\"])\n",
    "\n",
    "plt.title(\"ECE on amazon\")\n",
    "plt.legend()\n",
    "plt.show()\n",
    "\n"
   ]
  },
  {
   "cell_type": "code",
   "execution_count": null,
   "metadata": {},
   "outputs": [],
   "source": [
    "\n",
    "fig, ax = plt.subplots()\n",
    "\n",
    "for condition, results in zip(conditions_amazon, results_amazon):\n",
    "    ax.scatter(range(2), [i['nll'] for i in results], label=condition)\n",
    "\n",
    "ax.set_xticks([0,1])\n",
    "ax.set_xticklabels([\"ID\", \"OOD\"])\n",
    "\n",
    "plt.title(\"NLL on amazon\")\n",
    "plt.legend()\n",
    "plt.show()\n",
    "\n"
   ]
  },
  {
   "cell_type": "code",
   "execution_count": null,
   "metadata": {},
   "outputs": [],
   "source": [
    "\n",
    "fig, ax = plt.subplots()\n",
    "\n",
    "for condition, results in zip(conditions_camelyon17, results_camelyon17):\n",
    "    ax.scatter(range(2), [i['ece'] for i in results], label=condition)\n",
    "\n",
    "ax.set_xticks([0,1])\n",
    "ax.set_xticklabels([\"ID\", \"OOD\"])\n",
    "\n",
    "plt.title(\"ECE on camelyon17\")\n",
    "plt.legend()\n",
    "plt.show()\n",
    "\n"
   ]
  },
  {
   "cell_type": "code",
   "execution_count": null,
   "metadata": {},
   "outputs": [],
   "source": [
    "\n",
    "fig, ax = plt.subplots()\n",
    "\n",
    "for condition, results in zip(conditions_camelyon17, results_camelyon17):\n",
    "    ax.scatter(range(2), [i['nll'] for i in results], label=condition)\n",
    "\n",
    "ax.set_xticks([0,1])\n",
    "ax.set_xticklabels([\"ID\", \"OOD\"])\n",
    "\n",
    "plt.title(\"NLL on camelyon17\")\n",
    "plt.legend()\n",
    "plt.show()\n",
    "\n"
   ]
  },
  {
   "cell_type": "code",
   "execution_count": null,
   "metadata": {},
   "outputs": [],
   "source": [
    "fig, ax = plt.subplots()\n",
    "\n",
    "\n",
    "for condition, results in zip(conditions_amazon, results_amazon):\n",
    "    try:\n",
    "        acc = [m[\"acc\"] for m in results]\n",
    "        conf = [m[\"conf\"] for m in results]\n",
    "        mean_variances = [m[\"mean_variance\"] for m in results]\n",
    "\n",
    "        ax.plot(range(2), acc, label=f\"acc - {condition}\")\n",
    "        ax.errorbar([0, 1], conf, yerr=mean_variances, label=f\"conf - {condition}\", fmt='-o')\n",
    "    except: # MAP does not have 'mean_variance'\n",
    "        acc = [m[\"acc\"] for m in results]\n",
    "        conf = [m[\"conf\"] for m in results]\n",
    "        ax.plot(range(2), acc, label=f\"acc - {condition}\")\n",
    "        ax.plot(range(2), conf, label=f\"conf - {condition}\")\n",
    "\n",
    "ax.set_xticks([0,1])\n",
    "ax.set_xticklabels([\"ID\", \"OOD\"])\n",
    "\n",
    "plt.title(\"Accuracy/Confidence on amazon\")\n",
    "plt.legend()\n",
    "plt.show()"
   ]
  },
  {
   "cell_type": "code",
   "execution_count": null,
   "metadata": {},
   "outputs": [],
   "source": [
    "fig, ax = plt.subplots()\n",
    "\n",
    "\n",
    "for condition, results in zip(conditions_camelyon17, results_camelyon17):\n",
    "    try:\n",
    "        acc = [m[\"acc\"] for m in results]\n",
    "        conf = [m[\"conf\"] for m in results]\n",
    "        mean_variances = [m[\"mean_variance\"] for m in results]\n",
    "\n",
    "        ax.plot(range(2), acc, label=f\"acc - {condition}\")\n",
    "        ax.errorbar([0, 1], conf, yerr=mean_variances, label=f\"conf - {condition}\", fmt='-o')\n",
    "    except: # MAP does not have 'mean_variance'\n",
    "        acc = [m[\"acc\"] for m in results]\n",
    "        conf = [m[\"conf\"] for m in results]\n",
    "        ax.plot(range(2), acc, label=f\"acc - {condition}\")\n",
    "        ax.plot(range(2), conf, label=f\"conf - {condition}\")\n",
    "\n",
    "ax.set_xticks([0,1])\n",
    "ax.set_xticklabels([\"ID\", \"OOD\"])\n",
    "\n",
    "plt.title(\"Accuracy/Confidence on camelyon17\")\n",
    "plt.legend()\n",
    "plt.show()"
   ]
  },
  {
   "cell_type": "code",
   "execution_count": null,
   "metadata": {},
   "outputs": [],
   "source": []
  },
  {
   "cell_type": "code",
   "execution_count": null,
   "metadata": {},
   "outputs": [],
   "source": []
  }
 ],
 "metadata": {
  "kernelspec": {
   "display_name": "Python 3 (ipykernel)",
   "language": "python",
   "name": "python3"
  },
  "language_info": {
   "codemirror_mode": {
    "name": "ipython",
    "version": 3
   },
   "file_extension": ".py",
   "mimetype": "text/x-python",
   "name": "python",
   "nbconvert_exporter": "python",
   "pygments_lexer": "ipython3",
   "version": "3.10.8"
  },
  "orig_nbformat": 4
 },
 "nbformat": 4,
 "nbformat_minor": 2
}
