{
 "cells": [
  {
   "cell_type": "code",
   "execution_count": null,
   "metadata": {},
   "outputs": [],
   "source": [
    "import numpy as np\n",
    "import matplotlib.pyplot as plt\n",
    "import os\n",
    "from copy import deepcopy"
   ]
  },
  {
   "cell_type": "code",
   "execution_count": null,
   "metadata": {},
   "outputs": [],
   "source": [
    "1e-3"
   ]
  },
  {
   "cell_type": "code",
   "execution_count": null,
   "metadata": {},
   "outputs": [],
   "source": [
    "from tueplots import bundles\n",
    "\n",
    "\n",
    "\n",
    "# Inspired by bundles.neurips2023(), but adapting font sizes for pt12 standard\n",
    "\n",
    "settings_dict = {'text.usetex': True,\n",
    "                 'font.family': 'serif',\n",
    "                 'text.latex.preamble': '\\\\renewcommand{\\\\rmdefault}{ptm}\\\\renewcommand{\\\\sfdefault}{phv}',\n",
    "                 'figure.figsize': (5.5, 3.399186938124422),\n",
    "                 'figure.constrained_layout.use': True,\n",
    "                 'figure.autolayout': False,\n",
    "                 'savefig.bbox': 'tight',\n",
    "                 'savefig.pad_inches': 0.015,\n",
    "                 'font.size': 10,\n",
    "                 'axes.labelsize': 10,\n",
    "                 'legend.fontsize': 8,\n",
    "                 'xtick.labelsize': 8,\n",
    "                 'ytick.labelsize': 8,\n",
    "                 'axes.titlesize': 10,\n",
    "                 'figure.dpi': 300}\n",
    "\n",
    "\n",
    "plt.rcParams.update(settings_dict)\n",
    "\n",
    "\n",
    "# Can use colors from bundles.rgb.\n",
    "#     tue_blue\n",
    "#     tue_brown\n",
    "#     tue_dark\n",
    "#     tue_darkblue\n",
    "#     tue_darkgreen\n",
    "#     tue_gold\n",
    "#     tue_gray\n",
    "#     tue_green\n",
    "#     tue_lightblue\n",
    "#     tue_lightgold\n",
    "#     tue_lightgreen\n",
    "#     tue_lightorange\n",
    "#     tue_mauve\n",
    "#     tue_ocre\n",
    "#     tue_orange\n",
    "#     tue_red\n",
    "#     tue_violet"
   ]
  },
  {
   "cell_type": "code",
   "execution_count": null,
   "metadata": {},
   "outputs": [],
   "source": [
    "# # %matplotlib widget\n",
    "# import matplotlib\n",
    "# matplotlib.rcParams[\"figure.dpi\"] = 300"
   ]
  },
  {
   "cell_type": "code",
   "execution_count": null,
   "metadata": {},
   "outputs": [],
   "source": [
    "# The 'laplace-redux/results' folder has to be in the following specified folder:\n",
    "\n",
    "RESULTS_DIRECTORY = 'results - Toy Datasets - All conditions (map, TS, Laplace, scaling, ef)'\n"
   ]
  },
  {
   "cell_type": "code",
   "execution_count": null,
   "metadata": {},
   "outputs": [],
   "source": [
    "def load_results(RESULTS_DIRECTORY, dataset_name, sub_name, model_ids):\n",
    "    dat_list = []\n",
    "    for i in model_ids:\n",
    "        dat_list.append(np.load(f'{RESULTS_DIRECTORY}/{dataset_name}/{sub_name}_{i}.npy', allow_pickle=True))\n",
    "    \n",
    "    dat = []\n",
    "    for i in range(len(dat_list[0])):\n",
    "        dat_i = {}\n",
    "        for k, v in dat_list[0][i].items():\n",
    "            values_list = [model_seed_run[i][k] for model_seed_run in dat_list]\n",
    "            dat_i[k] = np.mean(values_list)\n",
    "            dat_i[k + \"_se\"] = np.std(values_list) / np.sqrt(len(values_list))\n",
    "        dat.append(dat_i)\n",
    "\n",
    "    return dat\n"
   ]
  },
  {
   "cell_type": "code",
   "execution_count": null,
   "metadata": {},
   "outputs": [],
   "source": [
    "# automatically load all conditions\n",
    "\n",
    "def get_all_conditions_model_id_names(RESULTS_DIRECTORY, DATASET_NAME):\n",
    "    results_files = os.listdir(os.path.join(RESULTS_DIRECTORY, DATASET_NAME))\n",
    "    conditions = list(set([\"_\".join(f.split(\"_\")[:-1]) for f in results_files]))\n",
    "    model_ids = list(set([f.split(\"_\")[-1][:-4] for f in results_files]))\n",
    "    model_ids.sort()\n",
    "    return conditions, model_ids\n",
    "\n",
    "\n",
    "DATASET = \"CIFAR-10-C\"\n",
    "conditions_cifar10c, model_ids_cifar10c = get_all_conditions_model_id_names(RESULTS_DIRECTORY, DATASET)\n",
    "results_cifar10c = []\n",
    "for condition in conditions_cifar10c: \n",
    "    results_cifar10c.append(load_results(RESULTS_DIRECTORY, DATASET, condition, model_ids_cifar10c))\n",
    "\n",
    "\n",
    "DATASET = \"R-MNIST\"\n",
    "conditions_rmnist, model_ids_rmnist = get_all_conditions_model_id_names(RESULTS_DIRECTORY, DATASET)\n",
    "results_rmnist = []\n",
    "for condition in conditions_rmnist: \n",
    "    results_rmnist.append(load_results(RESULTS_DIRECTORY, DATASET, condition, model_ids_rmnist))\n",
    "\n",
    "\n",
    "DATASET = \"R-FMNIST\"\n",
    "conditions_rfmnist, model_ids_rfmnist = get_all_conditions_model_id_names(RESULTS_DIRECTORY, DATASET)\n",
    "results_rfmnist = []\n",
    "for condition in conditions_rfmnist: \n",
    "    results_rfmnist.append(load_results(RESULTS_DIRECTORY, DATASET, condition, model_ids_rfmnist))\n",
    "\n",
    "\n",
    "\n",
    "\n",
    "# load all results for each condition into a list.\n",
    "# make a list of all the condition names"
   ]
  },
  {
   "cell_type": "code",
   "execution_count": null,
   "metadata": {},
   "outputs": [],
   "source": []
  },
  {
   "cell_type": "code",
   "execution_count": null,
   "metadata": {},
   "outputs": [],
   "source": [
    "condition_translation_dict = {\n",
    "    'laplace_ef_last_layer_full_scalingfittted_diagaddfitted_diagscalingfitted': \"LLLA(EF)+CVS\",\n",
    "    'laplace_last_layer_full': \"LLLA\", \n",
    "    'laplace_last_layer_full_diagaddfitted': \"LLLA+CVS - only diag fitted\",\n",
    "    'laplace_last_layer_full_scalingfittted_diagaddfitted_diagscalingfitted': \"LLLA+CVS\",\n",
    "    'temp': \"TS (pycalib)\",\n",
    "    'laplace_weight_inc_temp_last_layer_full': \"LLLA+WITS\",\n",
    "    'map_weight_inc_temp': \"TS (WITS)\",\n",
    "    'laplace_ef_weight_inc_temp_last_layer_full': \"LLLA(EF)+WITS\",\n",
    "    'laplace_ef_weight_inc_temp_last_layer_full_scalingfittted_diagaddfitted_diagscalingfitted': \"LLLA(EF)+WITS+CVS\",\n",
    "    'map': \"MAP\",\n",
    "    'laplace_last_layer_full_scalingfittted': \"LLLA+CVS - only scaling\",\n",
    "    'laplace_ef_last_layer_full': \"LLLA(EF)\",\n",
    "    'laplace_last_layer_full_diagscalingfitted': \"LLLA+CVS - only diag scaling\",\n",
    "    'laplace_weight_inc_temp_last_layer_full_scalingfittted_diagaddfitted_diagscalingfitted': \"LLLA+WITS+CVS\",\n",
    "    'laplace_OODValSet_weight_inc_temp_last_layer_full_scalingfittted_diagaddfitted_diagscalingfitted': \"fitted on OOD: LLLA+WITS+CVS\",\n",
    "    'laplace_OODValSet_weight_inc_temp_last_layer_full': \"fitted on OOD: LLLA+WITS\",\n",
    "    'laplace_OODValSet_last_layer_full_scalingfittted_diagaddfitted_diagscalingfitted': \"fitted on OOD: LLLA+CVS\",\n",
    "    'laplace_ef_OODValSet_weight_inc_temp_last_layer_full': \"fitted on OOD: LLLA(EF)+WITS\",\n",
    "    'laplace_ef_OODValSet_last_layer_full': \"fitted on OOD: LLLA(EF)\",\n",
    "    'laplace_ef_OODValSet_last_layer_full_scalingfittted_diagaddfitted_diagscalingfitted': \"fitted on OOD: LLLA(EF)+CVS\",\n",
    "    'laplace_ef_OODValSet_weight_inc_temp_last_layer_full_scalingfittted_diagaddfitted_diagscalingfitted': \"fitted on OOD: LLLA(EF)+WITS+CVS\",\n",
    "    'map_OODValSet_weight_inc_temp': \"fitted on OOD: MAP+WITS\",\n",
    "}\n"
   ]
  },
  {
   "cell_type": "code",
   "execution_count": null,
   "metadata": {},
   "outputs": [],
   "source": [
    "assert np.all([c in condition_translation_dict.keys() for c in conditions_rmnist])\n",
    "assert np.all([c in condition_translation_dict.keys() for c in conditions_rfmnist])\n",
    "assert np.all([c in condition_translation_dict.keys() for c in conditions_cifar10c])\n"
   ]
  },
  {
   "cell_type": "code",
   "execution_count": null,
   "metadata": {},
   "outputs": [],
   "source": [
    "conditions_rmnist = [condition_translation_dict[c] for c in conditions_rmnist]\n",
    "conditions_rfmnist = [condition_translation_dict[c] for c in conditions_rfmnist]\n",
    "conditions_cifar10c = [condition_translation_dict[c] for c in conditions_cifar10c]\n"
   ]
  },
  {
   "cell_type": "code",
   "execution_count": null,
   "metadata": {},
   "outputs": [],
   "source": [
    "total_amount_of_conditions = len(set(conditions_rmnist + conditions_rfmnist + conditions_cifar10c))"
   ]
  },
  {
   "cell_type": "code",
   "execution_count": null,
   "metadata": {},
   "outputs": [],
   "source": [
    "total_amount_of_conditions"
   ]
  },
  {
   "cell_type": "code",
   "execution_count": null,
   "metadata": {},
   "outputs": [],
   "source": [
    "all_unique_conditions = set(conditions_rmnist + conditions_rfmnist + conditions_cifar10c)\n",
    "\n",
    "fitted_on_OOD_conditions = [c for c in all_unique_conditions if 'fitted on OOD' in c]\n",
    "standard_conditions = [c for c in all_unique_conditions if c not in fitted_on_OOD_conditions]\n",
    "\n",
    "fitted_on_OOD_ef_conditions = [c for c in fitted_on_OOD_conditions if 'EF' in c]\n",
    "fitted_on_OOD_conditions = [c for c in fitted_on_OOD_conditions if c not in fitted_on_OOD_ef_conditions]\n",
    "ef_conditions = [c for c in standard_conditions if \"EF\" in c]\n",
    "standard_conditions = [c for c in standard_conditions if c not in ef_conditions]\n",
    "scaling_ablation_conditions = [c for c in standard_conditions if \"only\" in c]\n",
    "standard_conditions = [c for c in standard_conditions if c not in scaling_ablation_conditions]\n"
   ]
  },
  {
   "cell_type": "code",
   "execution_count": null,
   "metadata": {},
   "outputs": [],
   "source": [
    "all_unique_conditions = list(all_unique_conditions)\n",
    "all_unique_conditions.sort()\n",
    "standard_conditions = list(standard_conditions)\n",
    "standard_conditions.sort()\n",
    "\n",
    "fitted_on_OOD_conditions = list(fitted_on_OOD_conditions)\n",
    "fitted_on_OOD_conditions.sort()\n",
    "fitted_on_OOD_ef_conditions = list(fitted_on_OOD_ef_conditions)\n",
    "fitted_on_OOD_ef_conditions.sort()\n",
    "ef_conditions = list(ef_conditions)\n",
    "ef_conditions.sort()\n",
    "scaling_ablation_conditions = list(scaling_ablation_conditions)\n",
    "scaling_ablation_conditions.sort()\n"
   ]
  },
  {
   "cell_type": "code",
   "execution_count": null,
   "metadata": {},
   "outputs": [],
   "source": [
    "all_unique_conditions"
   ]
  },
  {
   "cell_type": "code",
   "execution_count": null,
   "metadata": {},
   "outputs": [],
   "source": [
    "standard_conditions"
   ]
  },
  {
   "cell_type": "code",
   "execution_count": null,
   "metadata": {},
   "outputs": [],
   "source": [
    "fitted_on_OOD_conditions"
   ]
  },
  {
   "cell_type": "code",
   "execution_count": null,
   "metadata": {},
   "outputs": [],
   "source": [
    "fitted_on_OOD_ef_conditions"
   ]
  },
  {
   "cell_type": "code",
   "execution_count": null,
   "metadata": {},
   "outputs": [],
   "source": [
    "ef_conditions"
   ]
  },
  {
   "cell_type": "code",
   "execution_count": null,
   "metadata": {},
   "outputs": [],
   "source": [
    "scaling_ablation_conditions"
   ]
  },
  {
   "cell_type": "code",
   "execution_count": null,
   "metadata": {},
   "outputs": [],
   "source": [
    "### Color palette\n",
    "\n",
    "# palette = plt.get_cmap('hsv')\n",
    "# palette = plt.get_cmap('nipy_spectral')\n",
    "# palette = plt.get_cmap('gist_rainbow')\n",
    "palette = plt.get_cmap('Set1')\n",
    "condition_to_color = {c: palette(i / len(standard_conditions)) for i, c in enumerate(standard_conditions)}\n",
    "palette = plt.get_cmap('Set2')\n",
    "condition_to_color.update({c: palette(i / len(fitted_on_OOD_conditions)) for i, c in enumerate(fitted_on_OOD_conditions)})\n",
    "\n",
    "palette = plt.get_cmap('Set2')\n",
    "condition_to_color.update({c: palette(i / len(ef_conditions)) for i, c in enumerate(ef_conditions)})\n",
    "\n",
    "palette = plt.get_cmap('Set2')\n",
    "condition_to_color.update({c: palette(i / len(fitted_on_OOD_ef_conditions)) for i, c in enumerate(fitted_on_OOD_ef_conditions)})\n",
    "\n",
    "palette = plt.get_cmap('Set2')\n",
    "condition_to_color.update({c: palette(i / len(scaling_ablation_conditions)) for i, c in enumerate(scaling_ablation_conditions)})\n",
    "\n",
    "condition_to_color[\"MAP\"] = \"darkblue\""
   ]
  },
  {
   "cell_type": "code",
   "execution_count": null,
   "metadata": {},
   "outputs": [],
   "source": [
    "def combined_plot(conditions_rmnist, results_rmnist, conditions_rfmnist, results_rfmnist, conditions_cifar10c, results_cifar10c, legend_order_permutation=None):\n",
    "\n",
    "    fig, ax = plt.subplots(2, 3)\n",
    "    # fig.set_size_inches([12, 8])\n",
    "\n",
    "    for condition, results in zip(conditions_rmnist, results_rmnist):\n",
    "        # datasets = range(len(results))\n",
    "        datasets = range(0, 181, 15)\n",
    "        ax[0][0].plot(datasets, [i['ece'] for i in results], label=condition, color=condition_to_color[condition])\n",
    "    ax[0][0].set_xticks([0, 45, 90, 135, 180])\n",
    "    ax[0][0].set_ylabel(\"ECE\")\n",
    "\n",
    "\n",
    "\n",
    "    for condition, results in zip(conditions_rmnist, results_rmnist):\n",
    "        # datasets = range(len(results))\n",
    "        datasets = range(0, 181, 15)\n",
    "        ax[1][0].plot(datasets, [i['nll'] for i in results], label=condition, color=condition_to_color[condition])\n",
    "    ax[1][0].set_ylabel(\"NLL\")\n",
    "    ax[1][0].set_xticks([0, 45, 90, 135, 180])\n",
    "    ax[1][0].set_xlabel(\"R-MNIST\\n(rotation angle)\")\n",
    "\n",
    "\n",
    "    for condition, results in zip(conditions_rfmnist, results_rfmnist):\n",
    "        datasets = range(0, 181, 15)\n",
    "        ax[0][1].plot(datasets, [i['ece'] for i in results], label=condition, color=condition_to_color[condition])\n",
    "    ax[0][1].set_xticks([0, 45, 90, 135, 180])\n",
    "\n",
    "\n",
    "    for condition, results in zip(conditions_rfmnist, results_rfmnist):\n",
    "        datasets = range(0, 181, 15)\n",
    "        ax[1][1].plot(datasets, [i['nll'] for i in results], label=condition, color=condition_to_color[condition])\n",
    "    ax[1][1].set_xticks([0, 45, 90, 135, 180])\n",
    "    ax[1][1].set_xlabel(\"R-FMNIST\\n(rotation angle)\")\n",
    "\n",
    "\n",
    "\n",
    "    for condition, results in zip(conditions_cifar10c, results_cifar10c):\n",
    "        datasets = range(len(results))\n",
    "        ax[0][2].plot(datasets, [i['ece'] for i in results], label=condition, color=condition_to_color[condition])\n",
    "    ax[0][2].set_xticks(datasets)\n",
    "\n",
    "\n",
    "    for condition, results in zip(conditions_cifar10c, results_cifar10c):\n",
    "        datasets = range(len(results))\n",
    "        ax[1][2].plot(datasets, [i['nll'] for i in results], label=condition, color=condition_to_color[condition])\n",
    "    ax[1][2].set_xticks(datasets)\n",
    "    ax[1][2].set_xlabel(\"CIFAR10-C\\n(degree of corruption)\")\n",
    "\n",
    "\n",
    "\n",
    "    handles, labels = ax[1][1].get_legend_handles_labels()\n",
    "    if legend_order_permutation:\n",
    "        handles, labels = [handles[idx] for idx in legend_order_permutation],[labels[idx] for idx in legend_order_permutation]\n",
    "\n",
    "    # plt.figlegend(handles, labels, loc='center left', bbox_to_anchor=(1, 0.55))\n",
    "    ax[0][2].legend(handles, labels, loc='center left', bbox_to_anchor=(1, 0.5))\n",
    "    # plt.tight_layout()\n",
    "    # plt.show()\n",
    "\n",
    "\n"
   ]
  },
  {
   "cell_type": "code",
   "execution_count": null,
   "metadata": {},
   "outputs": [],
   "source": [
    "combined_plot(conditions_rmnist, results_rmnist, conditions_rfmnist, results_rfmnist, conditions_cifar10c, results_cifar10c)\n",
    "plt.show()"
   ]
  },
  {
   "cell_type": "code",
   "execution_count": null,
   "metadata": {},
   "outputs": [],
   "source": [
    "def filter_conditions(conditions, results, wanted_conditions_list):\n",
    "    ret_conditions, ret_results = [], []\n",
    "\n",
    "    for c, r in zip(conditions, results): \n",
    "        if c in wanted_conditions_list:\n",
    "            ret_conditions.append(c)\n",
    "            ret_results.append(r)\n",
    "        \n",
    "    return ret_conditions, ret_results"
   ]
  },
  {
   "cell_type": "code",
   "execution_count": null,
   "metadata": {},
   "outputs": [],
   "source": []
  },
  {
   "cell_type": "code",
   "execution_count": null,
   "metadata": {},
   "outputs": [],
   "source": [
    "# TODO\n",
    "# Concise plots:\n",
    "# Baseline (MAP, LLLA, TS(pycalib)) (+ TS(mine?))\n",
    "wanted_conditions = [\"MAP\", \"LLLA\", \"TS (pycalib)\", \"TS (WITS)\"]\n",
    "conditions_rmnist_filtered, results_rmnist_filtered = filter_conditions(conditions_rmnist, results_rmnist, wanted_conditions)\n",
    "conditions_rfmnist_filtered, results_rfmnist_filtered = filter_conditions(conditions_rfmnist, results_rfmnist, wanted_conditions)\n",
    "conditions_cifar10c_filtered, results_cifar10c_filtered = filter_conditions(conditions_cifar10c, results_cifar10c, wanted_conditions)\n",
    "\n",
    "conditions_rmnist_filtered, results_rmnist_filtered = zip(*sorted(zip(conditions_rmnist_filtered, results_rmnist_filtered)))\n",
    "conditions_rfmnist_filtered, results_rfmnist_filtered = zip(*sorted(zip(conditions_rfmnist_filtered, results_rfmnist_filtered)))\n",
    "conditions_cifar10c_filtered, results_cifar10c_filtered = zip(*sorted(zip(conditions_cifar10c_filtered, results_cifar10c_filtered)))\n",
    "\n",
    "\n",
    "condition_to_color.update({'MAP': bundles.rgb.tue_red,\n",
    "                          'TS (pycalib)': bundles.rgb.tue_lightorange,\n",
    "                          'TS (WITS)': bundles.rgb.tue_orange,\n",
    "                          'LLLA': bundles.rgb.tue_violet,\n",
    "                          'LLLA+CVS': bundles.rgb.tue_lightblue,\n",
    "                          'LLLA+WITS': bundles.rgb.tue_blue,\n",
    "                          'LLLA+WITS+CVS': bundles.rgb.tue_darkblue,\n",
    "                          'fitted on OOD: MAP+WITS': bundles.rgb.tue_gray,\n",
    "                          'fitted on OOD: LLLA+CVS': bundles.rgb.tue_lightgreen,\n",
    "                          'fitted on OOD: LLLA+WITS': bundles.rgb.tue_green,\n",
    "                          'fitted on OOD: LLLA+WITS+CVS': bundles.rgb.tue_darkgreen\n",
    "})\n",
    "\n",
    "\n",
    "combined_plot(conditions_rmnist_filtered, results_rmnist_filtered, conditions_rfmnist_filtered, results_rfmnist_filtered, conditions_cifar10c_filtered, results_cifar10c_filtered, legend_order_permutation=[1, 0, 3, 2])\n",
    "if not os.path.exists('img/Results/ToyData_ECE_NLL/'):\n",
    "    os.makedirs('img/Results/ToyData_ECE_NLL/')\n",
    "plt.savefig('img/Results/ToyData_ECE_NLL/MAP_LLLA_TS_ECE_NLL.pdf')\n",
    "plt.show()\n"
   ]
  },
  {
   "cell_type": "code",
   "execution_count": null,
   "metadata": {},
   "outputs": [],
   "source": [
    "# WITS / Laplace with Cov-scaling\n",
    "\n",
    "wanted_conditions = deepcopy(standard_conditions)\n",
    "wanted_conditions.remove(\"TS (pycalib)\")\n",
    "\n",
    "conditions_rmnist_filtered, results_rmnist_filtered = filter_conditions(conditions_rmnist, results_rmnist, wanted_conditions)\n",
    "conditions_rfmnist_filtered, results_rfmnist_filtered = filter_conditions(conditions_rfmnist, results_rfmnist, wanted_conditions)\n",
    "conditions_cifar10c_filtered, results_cifar10c_filtered = filter_conditions(conditions_cifar10c, results_cifar10c, wanted_conditions)\n",
    "\n",
    "conditions_rmnist_filtered, results_rmnist_filtered = zip(*sorted(zip(conditions_rmnist_filtered, results_rmnist_filtered)))\n",
    "conditions_rfmnist_filtered, results_rfmnist_filtered = zip(*sorted(zip(conditions_rfmnist_filtered, results_rfmnist_filtered)))\n",
    "conditions_cifar10c_filtered, results_cifar10c_filtered = zip(*sorted(zip(conditions_cifar10c_filtered, results_cifar10c_filtered)))\n",
    "\n",
    "\n",
    "combined_plot(conditions_rmnist_filtered, results_rmnist_filtered, conditions_rfmnist_filtered, results_rfmnist_filtered, conditions_cifar10c_filtered, results_cifar10c_filtered, legend_order_permutation=[4, 0, 1, 5, 2, 3])\n",
    "if not os.path.exists('img/Results/ToyData_ECE_NLL/'):\n",
    "    os.makedirs('img/Results/ToyData_ECE_NLL/')\n",
    "plt.savefig('img/Results/ToyData_ECE_NLL/WITS_CovScaling_ECE_NLL.pdf')\n",
    "plt.show()\n"
   ]
  },
  {
   "cell_type": "code",
   "execution_count": null,
   "metadata": {},
   "outputs": [],
   "source": [
    "# With EF vs. GGN\n",
    "\n",
    "wanted_conditions = [\"MAP\", \"LLLA\", \"LLLA(EF)\"]\n",
    "# wanted_conditions = [\"LLLA+CVS\", \"LLLA(EF)+CVS\"]\n",
    "# wanted_conditions = [\"LLLA+WITS+CVS\", \"LLLA(EF)+WITS+CVS\"]\n",
    "\n",
    "# wanted_conditions = [\"LLLA\", \"LLLA+WITS\", \"LLLA+CVSITS + Cov-sca+CVSF)\", \"LLLA(EF)+WITS\", \"LLLA(EF)+CVSF)+WITS+CVS\"]\n",
    "\n",
    "conditions_rmnist_filtered, results_rmnist_filtered = filter_conditions(conditions_rmnist, results_rmnist, wanted_conditions)\n",
    "conditions_rfmnist_filtered, results_rfmnist_filtered = filter_conditions(conditions_rfmnist, results_rfmnist, wanted_conditions)\n",
    "conditions_cifar10c_filtered, results_cifar10c_filtered = filter_conditions(conditions_cifar10c, results_cifar10c, wanted_conditions)\n",
    "\n",
    "conditions_rmnist_filtered, results_rmnist_filtered = zip(*sorted(zip(conditions_rmnist_filtered, results_rmnist_filtered)))\n",
    "conditions_rfmnist_filtered, results_rfmnist_filtered = zip(*sorted(zip(conditions_rfmnist_filtered, results_rfmnist_filtered)))\n",
    "conditions_cifar10c_filtered, results_cifar10c_filtered = zip(*sorted(zip(conditions_cifar10c_filtered, results_cifar10c_filtered)))\n",
    "\n",
    "\n",
    "combined_plot(conditions_rmnist_filtered, results_rmnist_filtered, conditions_rfmnist_filtered, results_rfmnist_filtered, conditions_cifar10c_filtered, results_cifar10c_filtered, legend_order_permutation=[1, 2, 0])\n",
    "plt.show()\n"
   ]
  },
  {
   "cell_type": "code",
   "execution_count": null,
   "metadata": {},
   "outputs": [],
   "source": [
    "# With EF: WITS / Laplace with Cov-scaling\n",
    "\n",
    "wanted_conditions = [\"MAP\", \"LLLA\", \"LLLA+WITS+CVS\", \"LLLA(EF)\", \"LLLA(EF)+WITS\", \"LLLA(EF)+CVS\", \"LLLA(EF)+WITS+CVS\"]\n",
    "\n",
    "conditions_rmnist_filtered, results_rmnist_filtered = filter_conditions(conditions_rmnist, results_rmnist, wanted_conditions)\n",
    "conditions_rfmnist_filtered, results_rfmnist_filtered = filter_conditions(conditions_rfmnist, results_rfmnist, wanted_conditions)\n",
    "conditions_cifar10c_filtered, results_cifar10c_filtered = filter_conditions(conditions_cifar10c, results_cifar10c, wanted_conditions)\n",
    "\n",
    "conditions_rmnist_filtered, results_rmnist_filtered = zip(*sorted(zip(conditions_rmnist_filtered, results_rmnist_filtered)))\n",
    "conditions_rfmnist_filtered, results_rfmnist_filtered = zip(*sorted(zip(conditions_rfmnist_filtered, results_rfmnist_filtered)))\n",
    "conditions_cifar10c_filtered, results_cifar10c_filtered = zip(*sorted(zip(conditions_cifar10c_filtered, results_cifar10c_filtered)))\n",
    "\n",
    "\n",
    "combined_plot(conditions_rmnist_filtered, results_rmnist_filtered, conditions_rfmnist_filtered, results_rfmnist_filtered, conditions_cifar10c_filtered, results_cifar10c_filtered, legend_order_permutation=[6, 0, 5, 3, 4, 1, 2])\n",
    "if not os.path.exists('img/Results/ToyData_ECE_NLL/'):\n",
    "    os.makedirs('img/Results/ToyData_ECE_NLL/')\n",
    "plt.savefig('img/Results/ToyData_ECE_NLL/EF_Ablation.pdf')\n",
    "plt.show()\n"
   ]
  },
  {
   "cell_type": "code",
   "execution_count": null,
   "metadata": {},
   "outputs": [],
   "source": [
    "# # WITS / Laplace with Cov-scaling\n",
    "\n",
    "# # wanted_conditions = [\"MAP\", \"LLLA\", \"TS (pycalib)\", \"TS (WITS)\", \"LLLA+WITS\", \"LLLA+CVSITS+CVS\n",
    "# wanted_conditions = [\"MAP\", \"LLLA+WITS\", \"LLLA+CVSITS+CVS\n",
    "\n",
    "# conditions_rmnist_filtered, results_rmnist_filtered = filter_conditions(conditions_rmnist, results_rmnist, wanted_conditions)\n",
    "# conditions_rfmnist_filtered, results_rfmnist_filtered = filter_conditions(conditions_rfmnist, results_rfmnist, wanted_conditions)\n",
    "# conditions_cifar10c_filtered, results_cifar10c_filtered = filter_conditions(conditions_cifar10c, results_cifar10c, wanted_conditions)\n",
    "\n",
    "# combined_plot(conditions_rmnist_filtered, results_rmnist_filtered, conditions_rfmnist_filtered, results_rfmnist_filtered, conditions_cifar10c_filtered, results_cifar10c_filtered)"
   ]
  },
  {
   "cell_type": "markdown",
   "metadata": {},
   "source": [
    "# CVS Scaling parameters ablation"
   ]
  },
  {
   "cell_type": "code",
   "execution_count": null,
   "metadata": {},
   "outputs": [],
   "source": [
    "wanted_conditions = deepcopy(scaling_ablation_conditions)\n",
    "wanted_conditions += [\"LLLA\", 'LLLA+CVS']\n",
    "# wanted_conditions.remove(\"TS (pycalib)\")\n",
    "\n",
    "conditions_rmnist_filtered, results_rmnist_filtered = filter_conditions(conditions_rmnist, results_rmnist, wanted_conditions)\n",
    "conditions_rfmnist_filtered, results_rfmnist_filtered = filter_conditions(conditions_rfmnist, results_rfmnist, wanted_conditions)\n",
    "conditions_cifar10c_filtered, results_cifar10c_filtered = filter_conditions(conditions_cifar10c, results_cifar10c, wanted_conditions)\n",
    "\n",
    "conditions_rmnist_filtered, results_rmnist_filtered = zip(*sorted(zip(conditions_rmnist_filtered, results_rmnist_filtered)))\n",
    "conditions_rfmnist_filtered, results_rfmnist_filtered = zip(*sorted(zip(conditions_rfmnist_filtered, results_rfmnist_filtered)))\n",
    "conditions_cifar10c_filtered, results_cifar10c_filtered = zip(*sorted(zip(conditions_cifar10c_filtered, results_cifar10c_filtered)))\n",
    "\n",
    "\n",
    "combined_plot(conditions_rmnist_filtered, results_rmnist_filtered, conditions_rfmnist_filtered, results_rfmnist_filtered, conditions_cifar10c_filtered, results_cifar10c_filtered)\n",
    "if not os.path.exists('img/Results/ToyData_ECE_NLL/'):\n",
    "    os.makedirs('img/Results/ToyData_ECE_NLL/')\n",
    "plt.savefig('img/Results/ToyData_ECE_NLL/CVS_Parameter_Ablation.pdf')\n",
    "plt.show()\n"
   ]
  },
  {
   "cell_type": "code",
   "execution_count": null,
   "metadata": {},
   "outputs": [],
   "source": []
  },
  {
   "cell_type": "code",
   "execution_count": null,
   "metadata": {},
   "outputs": [],
   "source": []
  },
  {
   "cell_type": "code",
   "execution_count": null,
   "metadata": {},
   "outputs": [],
   "source": []
  },
  {
   "cell_type": "code",
   "execution_count": null,
   "metadata": {},
   "outputs": [],
   "source": []
  },
  {
   "cell_type": "code",
   "execution_count": null,
   "metadata": {},
   "outputs": [],
   "source": [
    "\n",
    "fig, ax = plt.subplots()\n",
    "\n",
    "for condition, results in zip(conditions_cifar10c, results_cifar10c):\n",
    "    datasets = range(len(results))\n",
    "    ax.plot(datasets, [i['ece'] for i in results], label=condition)\n",
    "\n",
    "ax.set_xticks(datasets)\n",
    "# ax.set_xticklabels([\"ID\", \"OOD\"])\n",
    "\n",
    "plt.title(\"ECE on cifar10c\")\n",
    "plt.legend()\n",
    "plt.show()\n",
    "\n"
   ]
  },
  {
   "cell_type": "code",
   "execution_count": null,
   "metadata": {},
   "outputs": [],
   "source": [
    "\n",
    "fig, ax = plt.subplots()\n",
    "\n",
    "for condition, results in zip(conditions_cifar10c, results_cifar10c):\n",
    "    datasets = range(len(results))\n",
    "    ax.plot(datasets, [i['nll'] for i in results], label=condition)\n",
    "\n",
    "ax.set_xticks(datasets)\n",
    "# ax.set_xticklabels([\"ID\", \"OOD\"])\n",
    "\n",
    "plt.title(\"NLL on cifar10c\")\n",
    "plt.legend()\n",
    "plt.show()\n",
    "\n"
   ]
  },
  {
   "cell_type": "code",
   "execution_count": null,
   "metadata": {},
   "outputs": [],
   "source": [
    "\n",
    "fig, ax = plt.subplots()\n",
    "\n",
    "for condition, results in zip(conditions_rmnist, results_rmnist):\n",
    "    datasets = range(len(results))\n",
    "    ax.plot(datasets, [i['ece'] for i in results], label=condition)\n",
    "\n",
    "ax.set_xticks(datasets)\n",
    "# ax.set_xticklabels([\"ID\", \"OOD\"])\n",
    "\n",
    "plt.title(\"ECE on rmnist\")\n",
    "plt.legend()\n",
    "plt.show()\n",
    "\n"
   ]
  },
  {
   "cell_type": "code",
   "execution_count": null,
   "metadata": {},
   "outputs": [],
   "source": [
    "\n",
    "fig, ax = plt.subplots()\n",
    "\n",
    "for condition, results in zip(conditions_rmnist, results_rmnist):\n",
    "    datasets = range(len(results))\n",
    "    ax.plot(datasets, [i['nll'] for i in results], label=condition)\n",
    "\n",
    "ax.set_xticks(datasets)\n",
    "# ax.set_xticklabels([\"ID\", \"OOD\"])\n",
    "\n",
    "plt.title(\"NLL on rmnist\")\n",
    "plt.legend()\n",
    "plt.show()\n",
    "\n"
   ]
  },
  {
   "cell_type": "code",
   "execution_count": null,
   "metadata": {},
   "outputs": [],
   "source": [
    "\n",
    "fig, ax = plt.subplots()\n",
    "\n",
    "for condition, results in zip(conditions_rfmnist, results_rfmnist):\n",
    "    datasets = range(len(results))\n",
    "    ax.plot(datasets, [i['ece'] for i in results], label=condition)\n",
    "\n",
    "ax.set_xticks(datasets)\n",
    "# ax.set_xticklabels([\"ID\", \"OOD\"])\n",
    "\n",
    "plt.title(\"ECE on rfmnist\")\n",
    "plt.legend()\n",
    "plt.show()\n",
    "\n"
   ]
  },
  {
   "cell_type": "code",
   "execution_count": null,
   "metadata": {},
   "outputs": [],
   "source": [
    "\n",
    "fig, ax = plt.subplots()\n",
    "\n",
    "for condition, results in zip(conditions_rfmnist, results_rfmnist):\n",
    "    datasets = range(len(results))\n",
    "    ax.plot(datasets, [i['nll'] for i in results], label=condition)\n",
    "\n",
    "ax.set_xticks(datasets)\n",
    "# ax.set_xticklabels([\"ID\", \"OOD\"])\n",
    "\n",
    "plt.title(\"NLL on rfmnist\")\n",
    "plt.legend()\n",
    "plt.show()\n",
    "\n"
   ]
  },
  {
   "cell_type": "code",
   "execution_count": null,
   "metadata": {},
   "outputs": [],
   "source": []
  },
  {
   "cell_type": "code",
   "execution_count": null,
   "metadata": {},
   "outputs": [],
   "source": []
  },
  {
   "cell_type": "code",
   "execution_count": null,
   "metadata": {},
   "outputs": [],
   "source": [
    "fig, ax = plt.subplots()\n",
    "\n",
    "for condition, results in zip(conditions_cifar10c, results_cifar10c):\n",
    "    datasets = range(len(results))\n",
    "    try:\n",
    "        acc = [m[\"acc\"] for m in results]\n",
    "        conf = [m[\"conf\"] for m in results]\n",
    "        mean_variances = [m[\"mean_variance\"] for m in results]\n",
    "\n",
    "        ax.plot(datasets, acc, label=f\"acc - {condition}\")\n",
    "        ax.errorbar(datasets, conf, yerr=mean_variances, label=f\"conf - {condition}\", fmt='-o')\n",
    "    except: # MAP does not have 'mean_variance'\n",
    "        acc = [m[\"acc\"] for m in results]\n",
    "        conf = [m[\"conf\"] for m in results]\n",
    "        ax.plot(datasets, acc, label=f\"acc - {condition}\")\n",
    "        ax.plot(datasets, conf, label=f\"conf - {condition}\")\n",
    "\n",
    "ax.set_xticks(datasets)\n",
    "# ax.set_xticklabels([\"ID\", \"OOD\"])\n",
    "\n",
    "plt.title(\"Accuracy/Confidence on cifar10c\")\n",
    "plt.legend()\n",
    "plt.show()"
   ]
  },
  {
   "cell_type": "code",
   "execution_count": null,
   "metadata": {},
   "outputs": [],
   "source": [
    "fig, ax = plt.subplots()\n",
    "\n",
    "for condition, results in zip(conditions_rmnist, results_rmnist):\n",
    "    datasets = range(len(results))\n",
    "    try:\n",
    "        acc = [m[\"acc\"] for m in results]\n",
    "        conf = [m[\"conf\"] for m in results]\n",
    "        mean_variances = [m[\"mean_variance\"] for m in results]\n",
    "\n",
    "        ax.plot(datasets, acc, label=f\"acc - {condition}\")\n",
    "        ax.errorbar(datasets, conf, yerr=mean_variances, label=f\"conf - {condition}\", fmt='-o')\n",
    "    except: # MAP does not have 'mean_variance'\n",
    "        acc = [m[\"acc\"] for m in results]\n",
    "        conf = [m[\"conf\"] for m in results]\n",
    "        ax.plot(datasets, acc, label=f\"acc - {condition}\")\n",
    "        ax.plot(datasets, conf, label=f\"conf - {condition}\")\n",
    "\n",
    "ax.set_xticks(datasets)\n",
    "# ax.set_xticklabels([\"ID\", \"OOD\"])\n",
    "\n",
    "plt.title(\"Accuracy/Confidence on rmnist\")\n",
    "plt.legend()\n",
    "plt.show()"
   ]
  },
  {
   "cell_type": "code",
   "execution_count": null,
   "metadata": {},
   "outputs": [],
   "source": [
    "fig, ax = plt.subplots()\n",
    "\n",
    "for condition, results in zip(conditions_rfmnist, results_rfmnist):\n",
    "    datasets = range(len(results))\n",
    "    try:\n",
    "        acc = [m[\"acc\"] for m in results]\n",
    "        conf = [m[\"conf\"] for m in results]\n",
    "        mean_variances = [m[\"mean_variance\"] for m in results]\n",
    "\n",
    "        ax.plot(datasets, acc, label=f\"acc - {condition}\")\n",
    "        ax.errorbar(datasets, conf, yerr=mean_variances, label=f\"conf - {condition}\", fmt='-o')\n",
    "    except: # MAP does not have 'mean_variance'\n",
    "        acc = [m[\"acc\"] for m in results]\n",
    "        conf = [m[\"conf\"] for m in results]\n",
    "        ax.plot(datasets, acc, label=f\"acc - {condition}\")\n",
    "        ax.plot(datasets, conf, label=f\"conf - {condition}\")\n",
    "\n",
    "ax.set_xticks(datasets)\n",
    "# ax.set_xticklabels([\"ID\", \"OOD\"])\n",
    "\n",
    "plt.title(\"Accuracy/Confidence on rfmnist\")\n",
    "plt.legend()\n",
    "plt.show()"
   ]
  },
  {
   "cell_type": "code",
   "execution_count": null,
   "metadata": {},
   "outputs": [],
   "source": []
  }
 ],
 "metadata": {
  "kernelspec": {
   "display_name": "Python 3",
   "language": "python",
   "name": "python3"
  },
  "language_info": {
   "codemirror_mode": {
    "name": "ipython",
    "version": 3
   },
   "file_extension": ".py",
   "mimetype": "text/x-python",
   "name": "python",
   "nbconvert_exporter": "python",
   "pygments_lexer": "ipython3",
   "version": "3.10.8"
  },
  "orig_nbformat": 4
 },
 "nbformat": 4,
 "nbformat_minor": 2
}
