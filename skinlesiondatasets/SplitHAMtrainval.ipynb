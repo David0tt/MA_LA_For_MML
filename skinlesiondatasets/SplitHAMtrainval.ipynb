{
 "cells": [
  {
   "cell_type": "code",
   "execution_count": 1,
   "metadata": {},
   "outputs": [],
   "source": [
    "import os\n",
    "import pandas as pd\n",
    "import numpy as np\n",
    "import json\n",
    "from tqdm import tqdm\n",
    "import shutil\n",
    "import random"
   ]
  },
  {
   "cell_type": "code",
   "execution_count": 2,
   "metadata": {},
   "outputs": [],
   "source": [
    "HAMdatafold = './SkinLesionDatasets/HAM/'\n",
    "HAMtraindatafold = './SkinLesionDatasets/HAMtrain/'\n",
    "HAMtestdatafold = './SkinLesionDatasets/HAMtest/'\n",
    "if os.path.isdir(HAMtraindatafold) == False:\n",
    "    os.makedirs(HAMtraindatafold)\n",
    "if os.path.isdir(HAMtestdatafold) == False:\n",
    "    os.makedirs(HAMtestdatafold)"
   ]
  },
  {
   "cell_type": "code",
   "execution_count": 3,
   "metadata": {},
   "outputs": [
    {
     "name": "stdout",
     "output_type": "stream",
     "text": [
      "['mel', 'bcc', 'akiec', 'df', 'vasc', 'bkl', 'nv']\n"
     ]
    }
   ],
   "source": [
    "existingfolders = os.listdir(HAMdatafold)\n",
    "print(existingfolders)"
   ]
  },
  {
   "cell_type": "code",
   "execution_count": 4,
   "metadata": {},
   "outputs": [
    {
     "name": "stderr",
     "output_type": "stream",
     "text": [
      "100%|███████████████████████████████████████████████████████████████████████████| 7/7 [01:06<00:00,  9.54s/it]\n"
     ]
    }
   ],
   "source": [
    "trainportion = 0.7\n",
    "for clscount in tqdm(range(len(existingfolders))):\n",
    "    clsfolder = HAMdatafold + existingfolders[clscount]\n",
    "    clstrainfolder = HAMtraindatafold + existingfolders[clscount]\n",
    "    clstestfolder = HAMtestdatafold + existingfolders[clscount]\n",
    "    existingfiles = os.listdir(clsfolder)\n",
    "    numlist = list(range(len(existingfiles)))\n",
    "    random.shuffle(numlist)\n",
    "    trainlist = numlist[:int(np.round(trainportion * len(existingfiles)))]\n",
    "    testlist = numlist[int(np.round(trainportion * len(existingfiles))):]\n",
    "    \n",
    "    if os.path.isdir(clstrainfolder) == False:\n",
    "        os.makedirs(clstrainfolder)\n",
    "    if os.path.isdir(clstestfolder) == False:\n",
    "        os.makedirs(clstestfolder)\n",
    "    \n",
    "    for ktrain in trainlist:\n",
    "        src = clsfolder + '/' + existingfiles[ktrain]\n",
    "        dst = clstrainfolder + '/' + existingfiles[ktrain]\n",
    "        shutil.copyfile(src, dst)\n",
    "    \n",
    "    for ktest in testlist:\n",
    "        src = clsfolder + '/' + existingfiles[ktest]\n",
    "        dst = clstestfolder + '/' + existingfiles[ktest]\n",
    "        shutil.copyfile(src, dst)\n",
    "    "
   ]
  },
  {
   "cell_type": "code",
   "execution_count": null,
   "metadata": {},
   "outputs": [],
   "source": []
  },
  {
   "cell_type": "code",
   "execution_count": null,
   "metadata": {},
   "outputs": [],
   "source": []
  }
 ],
 "metadata": {
  "kernelspec": {
   "display_name": "skinclassifier",
   "language": "python",
   "name": "skinclassifier"
  },
  "language_info": {
   "codemirror_mode": {
    "name": "ipython",
    "version": 3
   },
   "file_extension": ".py",
   "mimetype": "text/x-python",
   "name": "python",
   "nbconvert_exporter": "python",
   "pygments_lexer": "ipython3",
   "version": "3.9.17"
  }
 },
 "nbformat": 4,
 "nbformat_minor": 2
}
