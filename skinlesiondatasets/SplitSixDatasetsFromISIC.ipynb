{
 "cells": [
  {
   "cell_type": "code",
   "execution_count": 2,
   "metadata": {},
   "outputs": [],
   "source": [
    "import os\n",
    "import pandas as pd\n",
    "import numpy as np\n",
    "import json\n",
    "from tqdm import tqdm\n",
    "import shutil"
   ]
  },
  {
   "cell_type": "code",
   "execution_count": 129,
   "metadata": {},
   "outputs": [],
   "source": [
    "HAMdatafold = './SkinLesionDatasets/HAM/'\n",
    "MSKdatafold = './SkinLesionDatasets/MSK/'\n",
    "SONdatafold = './SkinLesionDatasets/SON/'\n",
    "UDAdatafold = './SkinLesionDatasets/UDA/'\n",
    "BCNdatafold = './SkinLesionDatasets/BCN/'\n",
    "VIEdatafold = './SkinLesionDatasets/VIE/'\n",
    "ISICdownload = './ISIC-Archive-Downloader/Data/'"
   ]
  },
  {
   "cell_type": "code",
   "execution_count": 130,
   "metadata": {},
   "outputs": [],
   "source": [
    "ISICdownload_Descriptions = ISICdownload + 'Descriptions/'\n",
    "ISICdownload_Images = ISICdownload + 'Images/'"
   ]
  },
  {
   "cell_type": "code",
   "execution_count": 146,
   "metadata": {},
   "outputs": [],
   "source": [
    "existingdescriptionfiles = os.listdir(ISICdownload_Descriptions)\n",
    "existingimagefiles = os.listdir(ISICdownload_Images)"
   ]
  },
  {
   "cell_type": "code",
   "execution_count": 140,
   "metadata": {},
   "outputs": [
    {
     "name": "stdout",
     "output_type": "stream",
     "text": [
      "BCN_20000\n",
      "False\n",
      "False\n",
      "True\n",
      "nevus\n"
     ]
    }
   ],
   "source": [
    "with open(ISICdownload_Descriptions + existingdescriptionfiles[5], 'r') as f:\n",
    "  df = json.load(f)\n",
    "dataset = df['dataset']['name']\n",
    "print(dataset)\n",
    "print(dataset[:3] == 'HAM')\n",
    "print(dataset[:3] == 'MSK')\n",
    "print(dataset[:7] == 'BCN_200')\n",
    "if  'diagnosis' in df['meta']['clinical']:\n",
    "    print(df['meta']['clinical']['diagnosis'])"
   ]
  },
  {
   "cell_type": "code",
   "execution_count": 148,
   "metadata": {},
   "outputs": [
    {
     "name": "stderr",
     "output_type": "stream",
     "text": [
      "100%|██████████| 445/445 [00:24<00:00, 18.20it/s]\n"
     ]
    }
   ],
   "source": [
    "for count in tqdm(range(len(existingdescriptionfiles))):\n",
    "#     print(count)\n",
    "    \n",
    "    with open(ISICdownload_Descriptions + existingdescriptionfiles[count], 'r') as f:\n",
    "      metainfo = json.load(f)\n",
    "    datasetinfo = metainfo['dataset']['name']\n",
    "    if datasetinfo[:3] != 'HAM' and datasetinfo[:7] != 'BCN_200' and datasetinfo[:5] != 'ISIC_' and datasetinfo[:3] != 'MSK' and datasetinfo[:3] != 'SON' and datasetinfo[:3] != 'UDA':\n",
    "        continue\n",
    "    if 'diagnosis' in metainfo['meta']['clinical']:\n",
    "        if metainfo['meta']['clinical']['diagnosis'] != None:\n",
    "            diagnosisinfo = metainfo['meta']['clinical']['diagnosis']\n",
    "        else:\n",
    "            continue\n",
    "    else:\n",
    "        continue\n",
    "    if datasetinfo[:3] == 'HAM':\n",
    "        outputfolder = HAMdatafold + diagnosisinfo\n",
    "    if datasetinfo[:7] == 'BCN_200':\n",
    "        outputfolder = BCNdatafold + diagnosisinfo\n",
    "    if datasetinfo[:5] == 'ISIC_':\n",
    "        outputfolder = VIEdatafold + diagnosisinfo\n",
    "    if datasetinfo[:3] == 'MSK':\n",
    "        outputfolder = MSKdatafold + diagnosisinfo\n",
    "    if datasetinfo[:3] == 'SON':\n",
    "        outputfolder = SONdatafold + diagnosisinfo\n",
    "    if datasetinfo[:3] == 'UDA':\n",
    "        outputfolder = UDAdatafold + diagnosisinfo\n",
    "    \n",
    "    if os.path.isdir(outputfolder) == False:\n",
    "        os.makedirs(outputfolder)\n",
    "    \n",
    "    src = ISICdownload_Images + existingdescriptionfiles[count] + '.jpeg'\n",
    "    dst = outputfolder + '/' + existingdescriptionfiles[count] + '.jpeg'\n",
    "    shutil.copyfile(src, dst)\n",
    "        \n",
    "    "
   ]
  },
  {
   "cell_type": "code",
   "execution_count": 147,
   "metadata": {},
   "outputs": [
    {
     "name": "stdout",
     "output_type": "stream",
     "text": [
      "69445\n"
     ]
    }
   ],
   "source": [
    "print(len(existingdescriptionfiles))"
   ]
  },
  {
   "cell_type": "code",
   "execution_count": null,
   "metadata": {},
   "outputs": [],
   "source": []
  },
  {
   "cell_type": "code",
   "execution_count": null,
   "metadata": {},
   "outputs": [],
   "source": []
  },
  {
   "cell_type": "code",
   "execution_count": null,
   "metadata": {},
   "outputs": [],
   "source": []
  },
  {
   "cell_type": "code",
   "execution_count": null,
   "metadata": {},
   "outputs": [],
   "source": []
  }
 ],
 "metadata": {
  "kernelspec": {
   "display_name": "skinclassifer",
   "language": "python",
   "name": "skinclassifer"
  },
  "language_info": {
   "codemirror_mode": {
    "name": "ipython",
    "version": 3
   },
   "file_extension": ".py",
   "mimetype": "text/x-python",
   "name": "python",
   "nbconvert_exporter": "python",
   "pygments_lexer": "ipython3",
   "version": "3.9.17"
  }
 },
 "nbformat": 4,
 "nbformat_minor": 2
}
