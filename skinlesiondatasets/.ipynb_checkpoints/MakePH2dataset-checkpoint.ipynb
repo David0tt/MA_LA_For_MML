{
 "cells": [
  {
   "cell_type": "code",
   "execution_count": 1,
   "metadata": {},
   "outputs": [],
   "source": [
    "import os\n",
    "import pandas as pd\n",
    "import numpy as np\n",
    "import json\n",
    "from tqdm import tqdm\n",
    "import shutil"
   ]
  },
  {
   "cell_type": "code",
   "execution_count": 4,
   "metadata": {},
   "outputs": [],
   "source": [
    "PH2datafold = './SkinLesionDatasets/PH2/'\n",
    "PH2download = './PH2download/PH2Dataset/'"
   ]
  },
  {
   "cell_type": "code",
   "execution_count": 5,
   "metadata": {},
   "outputs": [],
   "source": [
    "PH2download_Descriptions = PH2download + 'PH2_dataset.txt'\n",
    "descriptionfile = pd.read_fwf(PH2download_Descriptions)"
   ]
  },
  {
   "cell_type": "code",
   "execution_count": 6,
   "metadata": {},
   "outputs": [],
   "source": [
    "filename = descriptionfile['Name']\n",
    "diagnosis = descriptionfile['Diagnosis']"
   ]
  },
  {
   "cell_type": "code",
   "execution_count": 7,
   "metadata": {},
   "outputs": [
    {
     "name": "stderr",
     "output_type": "stream",
     "text": [
      "100%|█████████████████████████████████████████████████████████████████████████████████████████████████████| 220/220 [00:50<00:00,  4.33it/s]\n"
     ]
    }
   ],
   "source": [
    "for count in tqdm(range(len(filename))):\n",
    "#     print(count)\n",
    "    \n",
    "    diagnosisinfo = diagnosis[count]\n",
    "    if diagnosisinfo != '0' and diagnosisinfo != '1' and diagnosisinfo != '2':\n",
    "        continue\n",
    "    \n",
    "    if diagnosisinfo == '0' or diagnosisinfo == '1':\n",
    "        outputfolder = PH2datafold + 'nevus'\n",
    "    if diagnosisinfo == '2':\n",
    "        outputfolder = PH2datafold + 'melanoma'\n",
    "    \n",
    "    if os.path.isdir(outputfolder) == False:\n",
    "        os.makedirs(outputfolder)\n",
    "    \n",
    "    src = PH2download + 'PH2 Dataset images/' + filename[count] + '/' + filename[count] + '_Dermoscopic_Image/' + filename[count] + '.bmp'\n",
    "    dst = outputfolder + '/' + filename[count] + '.bmp'\n",
    "    shutil.copyfile(src, dst)\n",
    "        \n",
    "    "
   ]
  },
  {
   "cell_type": "code",
   "execution_count": null,
   "metadata": {},
   "outputs": [],
   "source": []
  },
  {
   "cell_type": "code",
   "execution_count": null,
   "metadata": {},
   "outputs": [],
   "source": []
  },
  {
   "cell_type": "code",
   "execution_count": null,
   "metadata": {},
   "outputs": [],
   "source": []
  },
  {
   "cell_type": "code",
   "execution_count": null,
   "metadata": {},
   "outputs": [],
   "source": []
  },
  {
   "cell_type": "code",
   "execution_count": null,
   "metadata": {},
   "outputs": [],
   "source": []
  }
 ],
 "metadata": {
  "kernelspec": {
   "display_name": "IW",
   "language": "python",
   "name": "iw"
  },
  "language_info": {
   "codemirror_mode": {
    "name": "ipython",
    "version": 3
   },
   "file_extension": ".py",
   "mimetype": "text/x-python",
   "name": "python",
   "nbconvert_exporter": "python",
   "pygments_lexer": "ipython3",
   "version": "3.9.7"
  }
 },
 "nbformat": 4,
 "nbformat_minor": 2
}
