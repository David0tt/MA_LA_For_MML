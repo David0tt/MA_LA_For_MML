{
 "cells": [
  {
   "cell_type": "code",
   "execution_count": 1,
   "metadata": {},
   "outputs": [],
   "source": [
    "import os\n",
    "import pandas as pd\n",
    "import numpy as np\n",
    "import json\n",
    "from tqdm import tqdm\n",
    "import shutil"
   ]
  },
  {
   "cell_type": "code",
   "execution_count": 2,
   "metadata": {},
   "outputs": [],
   "source": [
    "D7Pdatafold = './SkinLesionDatasets/D7P/'\n",
    "D7Pdownload = './D7Pdownload/'"
   ]
  },
  {
   "cell_type": "code",
   "execution_count": 3,
   "metadata": {},
   "outputs": [],
   "source": [
    "D7Pdownload_Descriptions = D7Pdownload + '/release_v0/meta/meta.csv'\n",
    "descriptionfile = pd.read_csv(D7Pdownload_Descriptions)"
   ]
  },
  {
   "cell_type": "code",
   "execution_count": 6,
   "metadata": {},
   "outputs": [],
   "source": [
    "diagnosis = descriptionfile['diagnosis']\n",
    "file1name = descriptionfile['clinic']\n",
    "file2name = descriptionfile['derm']"
   ]
  },
  {
   "cell_type": "code",
   "execution_count": 12,
   "metadata": {},
   "outputs": [
    {
     "name": "stderr",
     "output_type": "stream",
     "text": [
      "100%|██████████| 1011/1011 [00:18<00:00, 56.12it/s]\n"
     ]
    }
   ],
   "source": [
    "for count in tqdm(range(len(diagnosis))):\n",
    "#     print(count)\n",
    "    \n",
    "    diagnosisinfo = diagnosis[count]\n",
    "        \n",
    "    if diagnosisinfo[-5:] == 'nevus':\n",
    "        outputfolder = D7Pdatafold + 'nevus'\n",
    "    elif diagnosisinfo[:8] == 'melanoma':\n",
    "        outputfolder = D7Pdatafold + 'melanoma'\n",
    "    else:\n",
    "        outputfolder = D7Pdatafold + diagnosisinfo\n",
    "    \n",
    "    if os.path.isdir(outputfolder) == False:\n",
    "        os.makedirs(outputfolder)\n",
    "    \n",
    "    src1 = D7Pdownload + 'release_v0/images/' + file1name[count]\n",
    "    dst1 = outputfolder + '/' + file1name[count][4:]\n",
    "    shutil.copyfile(src1, dst1)\n",
    "        \n",
    "    src2 = D7Pdownload + 'release_v0/images/' + file2name[count]\n",
    "    dst2 = outputfolder + '/' + file2name[count][4:]\n",
    "    shutil.copyfile(src2, dst2)"
   ]
  },
  {
   "cell_type": "code",
   "execution_count": null,
   "metadata": {},
   "outputs": [],
   "source": []
  },
  {
   "cell_type": "code",
   "execution_count": null,
   "metadata": {},
   "outputs": [],
   "source": []
  }
 ],
 "metadata": {
  "kernelspec": {
   "display_name": "IW",
   "language": "python",
   "name": "iw"
  },
  "language_info": {
   "codemirror_mode": {
    "name": "ipython",
    "version": 3
   },
   "file_extension": ".py",
   "mimetype": "text/x-python",
   "name": "python",
   "nbconvert_exporter": "python",
   "pygments_lexer": "ipython3",
   "version": "3.9.7"
  }
 },
 "nbformat": 4,
 "nbformat_minor": 2
}
