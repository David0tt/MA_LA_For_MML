{
 "cells": [
  {
   "cell_type": "code",
   "execution_count": 84,
   "metadata": {},
   "outputs": [],
   "source": [
    "import os\n",
    "import numpy as np\n",
    "import torch\n",
    "import torchvision.transforms as transforms\n",
    "import torchvision.datasets as datasets\n",
    "from tqdm import tqdm\n",
    "import pandas as pd\n",
    "import torch.nn.functional as F\n",
    "from PIL import Image\n",
    "import matplotlib.pyplot as plt"
   ]
  },
  {
   "cell_type": "code",
   "execution_count": 85,
   "metadata": {},
   "outputs": [
    {
     "name": "stdout",
     "output_type": "stream",
     "text": [
      "Files already downloaded and verified\n"
     ]
    }
   ],
   "source": [
    "# load the model\n",
    "import models\n",
    "# default settings\n",
    "arch = 'resnet32'\n",
    "num_classes = 10\n",
    "use_norm = False\n",
    "model = models.__dict__[arch](num_classes=num_classes, use_norm=use_norm)\n",
    "\n",
    "cols_names_classes = ['class_' + str(i) for i in range(0,num_classes)]\n",
    "cols_names_logits = ['logit_' + str(i) for i in range(0, num_classes)]\n",
    "cols_names_targets = ['target_' + str(i) for i in range(0, num_classes)]\n",
    "\n",
    "# prepare the test data.\n",
    "transform_val = transforms.Compose([\n",
    "        transforms.ToTensor(),\n",
    "        transforms.Normalize((0.4914, 0.4822, 0.4465), (0.2023, 0.1994, 0.2010)),\n",
    "    ])\n",
    "val_dataset = datasets.CIFAR10(root='./data', train=False, download=True, transform=transform_val)\n",
    "val_loader = torch.utils.data.DataLoader(val_dataset, batch_size=1, shuffle=False,\n",
    "        num_workers=4, pin_memory=True)"
   ]
  },
  {
   "cell_type": "code",
   "execution_count": 86,
   "metadata": {},
   "outputs": [],
   "source": [
    "class MyDataset(torch.utils.data.Dataset):\n",
    "    def __init__(self, data, targets, transform=None):\n",
    "        self.data = data\n",
    "        self.targets = torch.LongTensor(targets)\n",
    "        self.transform = transform\n",
    "        \n",
    "    def __getitem__(self, index):\n",
    "        x = self.data[index]\n",
    "        y = self.targets[index]\n",
    "        \n",
    "        if self.transform:\n",
    "            x = Image.fromarray(self.data[index])\n",
    "            x = self.transform(x)\n",
    "        \n",
    "        return x, y\n",
    "    \n",
    "    def __len__(self):\n",
    "        return len(self.data)"
   ]
  },
  {
   "cell_type": "code",
   "execution_count": 87,
   "metadata": {},
   "outputs": [],
   "source": [
    "# load the model parameters\n",
    "# vanilla training\n",
    "model_ckpt_vanilla = './checkpoint/cifar10_resnet32_CE_None_exp_0.01_0/ckpt.pth.tar'\n",
    "# mixup training\n",
    "model_ckpt_mixup = './checkpoint/cifar10_resnet32_CE_None_exp_0.01_0_mixup/ckpt.pth.tar'\n",
    "# adv training\n",
    "model_ckpt_adv = './checkpoint/cifar10_resnet32_CE_None_exp_0.01_0_randaugment/ckpt.pth.tar'"
   ]
  },
  {
   "cell_type": "code",
   "execution_count": 88,
   "metadata": {},
   "outputs": [
    {
     "data": {
      "text/plain": [
       "<All keys matched successfully>"
      ]
     },
     "execution_count": 88,
     "metadata": {},
     "output_type": "execute_result"
    }
   ],
   "source": [
    "gpu = 1\n",
    "model = model.cuda(gpu)\n",
    "checkpoint = torch.load(model_ckpt_vanilla, map_location = 'cuda:' + str(gpu))\n",
    "model.load_state_dict(checkpoint['state_dict'])"
   ]
  },
  {
   "cell_type": "code",
   "execution_count": 89,
   "metadata": {},
   "outputs": [
    {
     "name": "stderr",
     "output_type": "stream",
     "text": [
      "100%|█████████████████████████████████████████████████| 10000/10000 [01:15<00:00, 133.01it/s]\n"
     ]
    }
   ],
   "source": [
    "cifarresultsdir = './cifar10results/vanilla/'\n",
    "if not os.path.exists(cifarresultsdir):\n",
    "    os.makedirs(cifarresultsdir)\n",
    "\n",
    "model.eval()\n",
    "logits = []\n",
    "preds = []\n",
    "targets = []\n",
    "for i, (input, target) in enumerate(tqdm(val_loader)):\n",
    "    input = input.cuda(gpu, non_blocking = True)\n",
    "    logits_test = model(input)\n",
    "    preds_test = F.softmax(logits_test, dim = 1)\n",
    "    targets_test = F.one_hot(target, num_classes = num_classes)\n",
    "    logits.append(logits_test.cpu().detach())\n",
    "    preds.append(preds_test.cpu().detach())\n",
    "    targets.append(targets_test)\n",
    "    \n",
    "logits = torch.cat(logits, dim=0)\n",
    "preds = torch.cat(preds, dim=0)\n",
    "targets = torch.cat(targets, dim=0)\n",
    "    \n",
    "df = pd.DataFrame(data=preds.numpy(), columns=cols_names_classes)\n",
    "df_logits = pd.DataFrame(data=logits.numpy(), columns=cols_names_logits)\n",
    "df_targets = pd.DataFrame(data=targets.numpy(), columns=cols_names_targets)\n",
    "df = pd.concat([df, df_logits, df_targets], axis=1)\n",
    "df.to_csv(os.path.join(cifarresultsdir, 'predictions_val.csv'), index=False)"
   ]
  },
  {
   "cell_type": "code",
   "execution_count": 90,
   "metadata": {},
   "outputs": [
    {
     "name": "stdout",
     "output_type": "stream",
     "text": [
      "Processing corruption:  jpeg_compression\n"
     ]
    },
    {
     "name": "stderr",
     "output_type": "stream",
     "text": [
      "100%|█████████████████████████████████████████████████| 50000/50000 [06:40<00:00, 124.86it/s]\n"
     ]
    }
   ],
   "source": [
    "cifarcdatadir = './CIFAR-10-C/'\n",
    "\n",
    "alltestfiles = os.listdir(cifarcdatadir)\n",
    "alltestfiles.remove('labels.npy')\n",
    "\n",
    "labelcifar = np.load(cifarcdatadir + 'labels.npy')\n",
    "\n",
    "# for testc in tqdm(alltestfiles):\n",
    "for testc in [alltestfiles[0]]:\n",
    "    \n",
    "    print('Processing corruption: ', testc[:-4])\n",
    "    \n",
    "    datasetexample = np.load(cifarcdatadir + testc)\n",
    "    \n",
    "    val_datasetc = MyDataset(datasetexample, labelcifar, transform=transform_val)\n",
    "    val_loaderc = torch.utils.data.DataLoader(val_datasetc, batch_size=1, shuffle=False,\n",
    "        num_workers=4, pin_memory=True)\n",
    "    \n",
    "    savefilename = 'predictions_val_' + testc[:-4] + '.csv'\n",
    "    \n",
    "    model.eval()\n",
    "    logits = []\n",
    "    preds = []\n",
    "    targets = []\n",
    "    for i, (input, target) in enumerate(tqdm(val_loaderc)):\n",
    "        input = input.cuda(gpu, non_blocking = True)\n",
    "        logits_test = model(input)\n",
    "        preds_test = F.softmax(logits_test, dim = 1)\n",
    "        targets_test = F.one_hot(target, num_classes = num_classes)\n",
    "        logits.append(logits_test.cpu().detach())\n",
    "        preds.append(preds_test.cpu().detach())\n",
    "        targets.append(targets_test)\n",
    "\n",
    "    logits = torch.cat(logits, dim=0)\n",
    "    preds = torch.cat(preds, dim=0)\n",
    "    targets = torch.cat(targets, dim=0)\n",
    "\n",
    "    df = pd.DataFrame(data=preds.numpy(), columns=cols_names_classes)\n",
    "    df_logits = pd.DataFrame(data=logits.numpy(), columns=cols_names_logits)\n",
    "    df_targets = pd.DataFrame(data=targets.numpy(), columns=cols_names_targets)\n",
    "    df = pd.concat([df, df_logits, df_targets], axis=1)\n",
    "    df.to_csv(os.path.join(cifarresultsdir, savefilename), index=False)\n",
    "    "
   ]
  },
  {
   "cell_type": "code",
   "execution_count": 91,
   "metadata": {},
   "outputs": [
    {
     "data": {
      "text/plain": [
       "<All keys matched successfully>"
      ]
     },
     "execution_count": 91,
     "metadata": {},
     "output_type": "execute_result"
    }
   ],
   "source": [
    "gpu = 1\n",
    "model = model.cuda(gpu)\n",
    "checkpoint = torch.load(model_ckpt_adv, map_location = 'cuda:' + str(gpu))\n",
    "model.load_state_dict(checkpoint['state_dict'])"
   ]
  },
  {
   "cell_type": "code",
   "execution_count": 92,
   "metadata": {},
   "outputs": [
    {
     "name": "stderr",
     "output_type": "stream",
     "text": [
      "100%|█████████████████████████████████████████████████| 10000/10000 [01:19<00:00, 125.72it/s]\n"
     ]
    }
   ],
   "source": [
    "cifarresultsdir = './cifar10results/randaugment/'\n",
    "if not os.path.exists(cifarresultsdir):\n",
    "    os.makedirs(cifarresultsdir)\n",
    "\n",
    "model.eval()\n",
    "logits = []\n",
    "preds = []\n",
    "targets = []\n",
    "for i, (input, target) in enumerate(tqdm(val_loader)):\n",
    "    input = input.cuda(gpu, non_blocking = True)\n",
    "    logits_test = model(input)\n",
    "    preds_test = F.softmax(logits_test, dim = 1)\n",
    "    targets_test = F.one_hot(target, num_classes = num_classes)\n",
    "    logits.append(logits_test.cpu().detach())\n",
    "    preds.append(preds_test.cpu().detach())\n",
    "    targets.append(targets_test)\n",
    "    \n",
    "logits = torch.cat(logits, dim=0)\n",
    "preds = torch.cat(preds, dim=0)\n",
    "targets = torch.cat(targets, dim=0)\n",
    "    \n",
    "df = pd.DataFrame(data=preds.numpy(), columns=cols_names_classes)\n",
    "df_logits = pd.DataFrame(data=logits.numpy(), columns=cols_names_logits)\n",
    "df_targets = pd.DataFrame(data=targets.numpy(), columns=cols_names_targets)\n",
    "df = pd.concat([df, df_logits, df_targets], axis=1)\n",
    "df.to_csv(os.path.join(cifarresultsdir, 'predictions_val.csv'), index=False)"
   ]
  },
  {
   "cell_type": "code",
   "execution_count": 93,
   "metadata": {},
   "outputs": [
    {
     "name": "stdout",
     "output_type": "stream",
     "text": [
      "Processing corruption:  jpeg_compression\n"
     ]
    },
    {
     "name": "stderr",
     "output_type": "stream",
     "text": [
      "100%|█████████████████████████████████████████████████| 50000/50000 [06:42<00:00, 124.38it/s]\n"
     ]
    }
   ],
   "source": [
    "cifarcdatadir = './CIFAR-10-C/'\n",
    "\n",
    "alltestfiles = os.listdir(cifarcdatadir)\n",
    "alltestfiles.remove('labels.npy')\n",
    "\n",
    "labelcifar = np.load(cifarcdatadir + 'labels.npy')\n",
    "\n",
    "# for testc in tqdm(alltestfiles):\n",
    "for testc in [alltestfiles[0]]:\n",
    "    \n",
    "    print('Processing corruption: ', testc[:-4])\n",
    "    \n",
    "    datasetexample = np.load(cifarcdatadir + testc)\n",
    "    \n",
    "    val_datasetc = MyDataset(datasetexample, labelcifar, transform=transform_val)\n",
    "    val_loaderc = torch.utils.data.DataLoader(val_datasetc, batch_size=1, shuffle=False,\n",
    "        num_workers=4, pin_memory=True)\n",
    "    \n",
    "    savefilename = 'predictions_val_' + testc[:-4] + '.csv'\n",
    "    \n",
    "    model.eval()\n",
    "    logits = []\n",
    "    preds = []\n",
    "    targets = []\n",
    "    for i, (input, target) in enumerate(tqdm(val_loaderc)):\n",
    "        input = input.cuda(gpu, non_blocking = True)\n",
    "        logits_test = model(input)\n",
    "        preds_test = F.softmax(logits_test, dim = 1)\n",
    "        targets_test = F.one_hot(target, num_classes = num_classes)\n",
    "        logits.append(logits_test.cpu().detach())\n",
    "        preds.append(preds_test.cpu().detach())\n",
    "        targets.append(targets_test)\n",
    "\n",
    "    logits = torch.cat(logits, dim=0)\n",
    "    preds = torch.cat(preds, dim=0)\n",
    "    targets = torch.cat(targets, dim=0)\n",
    "\n",
    "    df = pd.DataFrame(data=preds.numpy(), columns=cols_names_classes)\n",
    "    df_logits = pd.DataFrame(data=logits.numpy(), columns=cols_names_logits)\n",
    "    df_targets = pd.DataFrame(data=targets.numpy(), columns=cols_names_targets)\n",
    "    df = pd.concat([df, df_logits, df_targets], axis=1)\n",
    "    df.to_csv(os.path.join(cifarresultsdir, savefilename), index=False)\n",
    "    "
   ]
  },
  {
   "cell_type": "code",
   "execution_count": 94,
   "metadata": {},
   "outputs": [
    {
     "data": {
      "text/plain": [
       "<All keys matched successfully>"
      ]
     },
     "execution_count": 94,
     "metadata": {},
     "output_type": "execute_result"
    }
   ],
   "source": [
    "gpu = 1\n",
    "model = model.cuda(gpu)\n",
    "checkpoint = torch.load(model_ckpt_mixup, map_location = 'cuda:' + str(gpu))\n",
    "model.load_state_dict(checkpoint['state_dict'])"
   ]
  },
  {
   "cell_type": "code",
   "execution_count": 95,
   "metadata": {},
   "outputs": [
    {
     "name": "stderr",
     "output_type": "stream",
     "text": [
      "100%|█████████████████████████████████████████████████| 10000/10000 [01:20<00:00, 123.50it/s]\n"
     ]
    }
   ],
   "source": [
    "cifarresultsdir = './cifar10results/mixup/'\n",
    "if not os.path.exists(cifarresultsdir):\n",
    "    os.makedirs(cifarresultsdir)\n",
    "\n",
    "model.eval()\n",
    "logits = []\n",
    "preds = []\n",
    "targets = []\n",
    "for i, (input, target) in enumerate(tqdm(val_loader)):\n",
    "    input = input.cuda(gpu, non_blocking = True)\n",
    "    logits_test = model(input)\n",
    "    preds_test = F.softmax(logits_test, dim = 1)\n",
    "    targets_test = F.one_hot(target, num_classes = num_classes)\n",
    "    logits.append(logits_test.cpu().detach())\n",
    "    preds.append(preds_test.cpu().detach())\n",
    "    targets.append(targets_test)\n",
    "    \n",
    "logits = torch.cat(logits, dim=0)\n",
    "preds = torch.cat(preds, dim=0)\n",
    "targets = torch.cat(targets, dim=0)\n",
    "    \n",
    "df = pd.DataFrame(data=preds.numpy(), columns=cols_names_classes)\n",
    "df_logits = pd.DataFrame(data=logits.numpy(), columns=cols_names_logits)\n",
    "df_targets = pd.DataFrame(data=targets.numpy(), columns=cols_names_targets)\n",
    "df = pd.concat([df, df_logits, df_targets], axis=1)\n",
    "df.to_csv(os.path.join(cifarresultsdir, 'predictions_val.csv'), index=False)"
   ]
  },
  {
   "cell_type": "code",
   "execution_count": 96,
   "metadata": {},
   "outputs": [
    {
     "name": "stdout",
     "output_type": "stream",
     "text": [
      "Processing corruption:  jpeg_compression\n"
     ]
    },
    {
     "name": "stderr",
     "output_type": "stream",
     "text": [
      "100%|█████████████████████████████████████████████████| 50000/50000 [06:56<00:00, 120.04it/s]\n"
     ]
    }
   ],
   "source": [
    "cifarcdatadir = './CIFAR-10-C/'\n",
    "\n",
    "alltestfiles = os.listdir(cifarcdatadir)\n",
    "alltestfiles.remove('labels.npy')\n",
    "\n",
    "labelcifar = np.load(cifarcdatadir + 'labels.npy')\n",
    "\n",
    "# for testc in tqdm(alltestfiles):\n",
    "for testc in [alltestfiles[0]]:\n",
    "    \n",
    "    print('Processing corruption: ', testc[:-4])\n",
    "    \n",
    "    datasetexample = np.load(cifarcdatadir + testc)\n",
    "    \n",
    "    val_datasetc = MyDataset(datasetexample, labelcifar, transform=transform_val)\n",
    "    val_loaderc = torch.utils.data.DataLoader(val_datasetc, batch_size=1, shuffle=False,\n",
    "        num_workers=4, pin_memory=True)\n",
    "    \n",
    "    savefilename = 'predictions_val_' + testc[:-4] + '.csv'\n",
    "    \n",
    "    model.eval()\n",
    "    logits = []\n",
    "    preds = []\n",
    "    targets = []\n",
    "    for i, (input, target) in enumerate(tqdm(val_loaderc)):\n",
    "        input = input.cuda(gpu, non_blocking = True)\n",
    "        logits_test = model(input)\n",
    "        preds_test = F.softmax(logits_test, dim = 1)\n",
    "        targets_test = F.one_hot(target, num_classes = num_classes)\n",
    "        logits.append(logits_test.cpu().detach())\n",
    "        preds.append(preds_test.cpu().detach())\n",
    "        targets.append(targets_test)\n",
    "\n",
    "    logits = torch.cat(logits, dim=0)\n",
    "    preds = torch.cat(preds, dim=0)\n",
    "    targets = torch.cat(targets, dim=0)\n",
    "\n",
    "    df = pd.DataFrame(data=preds.numpy(), columns=cols_names_classes)\n",
    "    df_logits = pd.DataFrame(data=logits.numpy(), columns=cols_names_logits)\n",
    "    df_targets = pd.DataFrame(data=targets.numpy(), columns=cols_names_targets)\n",
    "    df = pd.concat([df, df_logits, df_targets], axis=1)\n",
    "    df.to_csv(os.path.join(cifarresultsdir, savefilename), index=False)\n",
    "    "
   ]
  },
  {
   "cell_type": "code",
   "execution_count": 103,
   "metadata": {},
   "outputs": [],
   "source": [
    "cifar_resultsdir = '/vol/biomedic3/zl9518/Robust-Skin-Lesion-Classification/cifar10results/vanilla/'\n",
    "cnn_pred = pd.read_csv(cifar_resultsdir + 'predictions_val.csv')"
   ]
  },
  {
   "cell_type": "code",
   "execution_count": 104,
   "metadata": {},
   "outputs": [
    {
     "name": "stdout",
     "output_type": "stream",
     "text": [
      "0.7005\n"
     ]
    }
   ],
   "source": [
    "kcls = 10\n",
    "targets_all = np.array(cnn_pred[['target_0', 'target_1', 'target_2', 'target_3', 'target_4', 'target_5', 'target_6', 'target_7', 'target_8', 'target_9']])\n",
    "logit_all = np.array(cnn_pred[['logit_0', 'logit_1', 'logit_2', 'logit_3', 'logit_4', 'logit_5', 'logit_6', 'logit_7', 'logit_8', 'logit_9']])\n",
    "preds_all_argmax = np.argmax(logit_all, axis = 1)\n",
    "# acc\n",
    "target_class = np.argmax(targets_all, axis = 1)\n",
    "pred_class = np.argmax(logit_all, axis = 1)\n",
    "acc = np.sum(pred_class == target_class) / len(target_class)\n",
    "print(acc)"
   ]
  },
  {
   "cell_type": "code",
   "execution_count": 105,
   "metadata": {},
   "outputs": [],
   "source": [
    "cifar_resultsdir = '/vol/biomedic3/zl9518/Robust-Skin-Lesion-Classification/cifar10results/randaugment/'\n",
    "cnn_pred = pd.read_csv(cifar_resultsdir + 'predictions_val.csv')"
   ]
  },
  {
   "cell_type": "code",
   "execution_count": 106,
   "metadata": {},
   "outputs": [
    {
     "name": "stdout",
     "output_type": "stream",
     "text": [
      "0.74\n"
     ]
    }
   ],
   "source": [
    "kcls = 10\n",
    "targets_all = np.array(cnn_pred[['target_0', 'target_1', 'target_2', 'target_3', 'target_4', 'target_5', 'target_6', 'target_7', 'target_8', 'target_9']])\n",
    "logit_all = np.array(cnn_pred[['logit_0', 'logit_1', 'logit_2', 'logit_3', 'logit_4', 'logit_5', 'logit_6', 'logit_7', 'logit_8', 'logit_9']])\n",
    "preds_all_argmax = np.argmax(logit_all, axis = 1)\n",
    "# acc\n",
    "target_class = np.argmax(targets_all, axis = 1)\n",
    "pred_class = np.argmax(logit_all, axis = 1)\n",
    "acc = np.sum(pred_class == target_class) / len(target_class)\n",
    "print(acc)"
   ]
  },
  {
   "cell_type": "code",
   "execution_count": 107,
   "metadata": {},
   "outputs": [],
   "source": [
    "cifar_resultsdir = '/vol/biomedic3/zl9518/Robust-Skin-Lesion-Classification/cifar10results/mixup/'\n",
    "cnn_pred = pd.read_csv(cifar_resultsdir + 'predictions_val.csv')"
   ]
  },
  {
   "cell_type": "code",
   "execution_count": 108,
   "metadata": {},
   "outputs": [
    {
     "name": "stdout",
     "output_type": "stream",
     "text": [
      "0.7111\n"
     ]
    }
   ],
   "source": [
    "kcls = 10\n",
    "targets_all = np.array(cnn_pred[['target_0', 'target_1', 'target_2', 'target_3', 'target_4', 'target_5', 'target_6', 'target_7', 'target_8', 'target_9']])\n",
    "logit_all = np.array(cnn_pred[['logit_0', 'logit_1', 'logit_2', 'logit_3', 'logit_4', 'logit_5', 'logit_6', 'logit_7', 'logit_8', 'logit_9']])\n",
    "preds_all_argmax = np.argmax(logit_all, axis = 1)\n",
    "# acc\n",
    "target_class = np.argmax(targets_all, axis = 1)\n",
    "pred_class = np.argmax(logit_all, axis = 1)\n",
    "acc = np.sum(pred_class == target_class) / len(target_class)\n",
    "print(acc)"
   ]
  },
  {
   "cell_type": "code",
   "execution_count": null,
   "metadata": {},
   "outputs": [],
   "source": []
  },
  {
   "cell_type": "code",
   "execution_count": null,
   "metadata": {},
   "outputs": [],
   "source": []
  }
 ],
 "metadata": {
  "kernelspec": {
   "display_name": "skinclassifier",
   "language": "python",
   "name": "skinclassifier"
  },
  "language_info": {
   "codemirror_mode": {
    "name": "ipython",
    "version": 3
   },
   "file_extension": ".py",
   "mimetype": "text/x-python",
   "name": "python",
   "nbconvert_exporter": "python",
   "pygments_lexer": "ipython3",
   "version": "3.9.17"
  }
 },
 "nbformat": 4,
 "nbformat_minor": 2
}
